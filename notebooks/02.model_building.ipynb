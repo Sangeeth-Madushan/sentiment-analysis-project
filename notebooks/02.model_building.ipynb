{
 "cells": [
  {
   "cell_type": "code",
   "execution_count": 5,
   "id": "5060badd-64d8-4fd1-8870-7d8e6e140002",
   "metadata": {},
   "outputs": [],
   "source": [
    "import numpy as np\n",
    "import pandas as pd\n",
    "import matplotlib.pyplot as plt"
   ]
  },
  {
   "cell_type": "code",
   "execution_count": 6,
   "id": "bdde946c-3c49-482e-a815-c3964c406197",
   "metadata": {},
   "outputs": [],
   "source": [
    "data = pd.read_csv('../artifacts/sentiment_analysis.csv')"
   ]
  },
  {
   "cell_type": "code",
   "execution_count": 7,
   "id": "ec9323cd-46e1-4c83-869f-4eda9db1ed91",
   "metadata": {},
   "outputs": [
    {
     "data": {
      "text/html": [
       "<div>\n",
       "<style scoped>\n",
       "    .dataframe tbody tr th:only-of-type {\n",
       "        vertical-align: middle;\n",
       "    }\n",
       "\n",
       "    .dataframe tbody tr th {\n",
       "        vertical-align: top;\n",
       "    }\n",
       "\n",
       "    .dataframe thead th {\n",
       "        text-align: right;\n",
       "    }\n",
       "</style>\n",
       "<table border=\"1\" class=\"dataframe\">\n",
       "  <thead>\n",
       "    <tr style=\"text-align: right;\">\n",
       "      <th></th>\n",
       "      <th>id</th>\n",
       "      <th>label</th>\n",
       "      <th>tweet</th>\n",
       "    </tr>\n",
       "  </thead>\n",
       "  <tbody>\n",
       "    <tr>\n",
       "      <th>0</th>\n",
       "      <td>1</td>\n",
       "      <td>0</td>\n",
       "      <td>#fingerprint #Pregnancy Test https://goo.gl/h1...</td>\n",
       "    </tr>\n",
       "    <tr>\n",
       "      <th>1</th>\n",
       "      <td>2</td>\n",
       "      <td>0</td>\n",
       "      <td>Finally a transparant silicon case ^^ Thanks t...</td>\n",
       "    </tr>\n",
       "    <tr>\n",
       "      <th>2</th>\n",
       "      <td>3</td>\n",
       "      <td>0</td>\n",
       "      <td>We love this! Would you go? #talk #makememorie...</td>\n",
       "    </tr>\n",
       "    <tr>\n",
       "      <th>3</th>\n",
       "      <td>4</td>\n",
       "      <td>0</td>\n",
       "      <td>I'm wired I know I'm George I was made that wa...</td>\n",
       "    </tr>\n",
       "    <tr>\n",
       "      <th>4</th>\n",
       "      <td>5</td>\n",
       "      <td>1</td>\n",
       "      <td>What amazing service! Apple won't even talk to...</td>\n",
       "    </tr>\n",
       "  </tbody>\n",
       "</table>\n",
       "</div>"
      ],
      "text/plain": [
       "   id  label                                              tweet\n",
       "0   1      0  #fingerprint #Pregnancy Test https://goo.gl/h1...\n",
       "1   2      0  Finally a transparant silicon case ^^ Thanks t...\n",
       "2   3      0  We love this! Would you go? #talk #makememorie...\n",
       "3   4      0  I'm wired I know I'm George I was made that wa...\n",
       "4   5      1  What amazing service! Apple won't even talk to..."
      ]
     },
     "execution_count": 7,
     "metadata": {},
     "output_type": "execute_result"
    }
   ],
   "source": [
    "data.head()"
   ]
  },
  {
   "cell_type": "markdown",
   "id": "0e3b678a-d569-43ef-9e64-6372c330adeb",
   "metadata": {},
   "source": [
    "## Data Preprocessing "
   ]
  },
  {
   "cell_type": "code",
   "execution_count": 8,
   "id": "cb69f05f-7c2e-4d6d-a1c5-10e5f3facffe",
   "metadata": {},
   "outputs": [
    {
     "data": {
      "text/plain": [
       "(7920, 3)"
      ]
     },
     "execution_count": 8,
     "metadata": {},
     "output_type": "execute_result"
    }
   ],
   "source": [
    "data.shape"
   ]
  },
  {
   "cell_type": "code",
   "execution_count": 9,
   "id": "c35be25a-5df3-49e0-8d1f-ca116705a0b3",
   "metadata": {},
   "outputs": [
    {
     "data": {
      "text/plain": [
       "np.int64(0)"
      ]
     },
     "execution_count": 9,
     "metadata": {},
     "output_type": "execute_result"
    }
   ],
   "source": [
    "data.duplicated().sum()"
   ]
  },
  {
   "cell_type": "code",
   "execution_count": 10,
   "id": "32a2311c-ff0a-4cf2-90dc-d4f2b45f0290",
   "metadata": {},
   "outputs": [
    {
     "data": {
      "text/plain": [
       "id       0\n",
       "label    0\n",
       "tweet    0\n",
       "dtype: int64"
      ]
     },
     "execution_count": 10,
     "metadata": {},
     "output_type": "execute_result"
    }
   ],
   "source": [
    "data.isnull().sum()"
   ]
  },
  {
   "cell_type": "markdown",
   "id": "75109de7-759d-46f3-bb15-85fe1e956a4f",
   "metadata": {},
   "source": [
    "## Text Preprocessing "
   ]
  },
  {
   "cell_type": "code",
   "execution_count": 11,
   "id": "1e335c0d-6659-402e-a5c0-109fb6975405",
   "metadata": {},
   "outputs": [],
   "source": [
    "import re\n",
    "import string"
   ]
  },
  {
   "cell_type": "markdown",
   "id": "c2cec005-8bd9-419e-b4a2-2a840d8bc421",
   "metadata": {},
   "source": [
    "CONVERT UPPER CASE TO LOWER CASE"
   ]
  },
  {
   "cell_type": "code",
   "execution_count": 12,
   "id": "e1155d5a-0660-4619-b4bb-f42397af64f3",
   "metadata": {},
   "outputs": [],
   "source": [
    "data[\"tweet\"] = data[\"tweet\"].apply(lambda x: \" \".join(x.lower() for x in x.split()))"
   ]
  },
  {
   "cell_type": "code",
   "execution_count": 13,
   "id": "37006c75-519f-43d5-852b-880b3383acd0",
   "metadata": {},
   "outputs": [
    {
     "data": {
      "text/plain": [
       "0    #fingerprint #pregnancy test https://goo.gl/h1...\n",
       "1    finally a transparant silicon case ^^ thanks t...\n",
       "2    we love this! would you go? #talk #makememorie...\n",
       "3    i'm wired i know i'm george i was made that wa...\n",
       "4    what amazing service! apple won't even talk to...\n",
       "Name: tweet, dtype: object"
      ]
     },
     "execution_count": 13,
     "metadata": {},
     "output_type": "execute_result"
    }
   ],
   "source": [
    "data[\"tweet\"].head(5)"
   ]
  },
  {
   "cell_type": "markdown",
   "id": "de665f48-f3de-4cd6-9040-fdfbb6b9acd6",
   "metadata": {},
   "source": [
    "REMOVE LINKS"
   ]
  },
  {
   "cell_type": "code",
   "execution_count": 14,
   "id": "104db169-ba92-4e87-9934-c9a9df79c1c9",
   "metadata": {},
   "outputs": [],
   "source": [
    "data[\"tweet\"] = data[\"tweet\"].apply(lambda x: \" \".join(re.sub(r'^https?:\\/\\/.*[\\r\\n]*', '',x, flags= re.MULTILINE)  for x in x.split() ) )"
   ]
  },
  {
   "cell_type": "code",
   "execution_count": 15,
   "id": "ba864514-0f5b-4959-99a2-516661ec9466",
   "metadata": {},
   "outputs": [
    {
     "data": {
      "text/plain": [
       "0    #fingerprint #pregnancy test  #android #apps #...\n",
       "1    finally a transparant silicon case ^^ thanks t...\n",
       "2    we love this! would you go? #talk #makememorie...\n",
       "3    i'm wired i know i'm george i was made that wa...\n",
       "4    what amazing service! apple won't even talk to...\n",
       "Name: tweet, dtype: object"
      ]
     },
     "execution_count": 15,
     "metadata": {},
     "output_type": "execute_result"
    }
   ],
   "source": [
    "data[\"tweet\"].head(5)"
   ]
  },
  {
   "cell_type": "markdown",
   "id": "f8e39e65-b1e6-4624-8540-96fe84367a1a",
   "metadata": {},
   "source": [
    "Remove punctuations"
   ]
  },
  {
   "cell_type": "code",
   "execution_count": 16,
   "id": "4860277e-5a5e-4af8-9bd3-1ed1786f7231",
   "metadata": {},
   "outputs": [
    {
     "name": "stdout",
     "output_type": "stream",
     "text": [
      "!\"#$%&'()*+,-./:;<=>?@[\\]^_`{|}~\n"
     ]
    }
   ],
   "source": [
    "print(string.punctuation)"
   ]
  },
  {
   "cell_type": "code",
   "execution_count": 17,
   "id": "a748ab91-6d40-40c6-82af-cf6c00b0570e",
   "metadata": {},
   "outputs": [],
   "source": [
    "def remove_punctuations(text):\n",
    "    for punctuation in string.punctuation:\n",
    "        text = text.replace(punctuation, '')\n",
    "    return text\n",
    "\n",
    "data[\"tweet\"] = data[\"tweet\"].apply(remove_punctuations)"
   ]
  },
  {
   "cell_type": "code",
   "execution_count": 18,
   "id": "8dc729b4-9682-4a5a-9a59-4f4b76635d42",
   "metadata": {},
   "outputs": [
    {
     "data": {
      "text/plain": [
       "0    fingerprint pregnancy test  android apps beaut...\n",
       "1    finally a transparant silicon case  thanks to ...\n",
       "2    we love this would you go talk makememories un...\n",
       "3    im wired i know im george i was made that way ...\n",
       "4    what amazing service apple wont even talk to m...\n",
       "Name: tweet, dtype: object"
      ]
     },
     "execution_count": 18,
     "metadata": {},
     "output_type": "execute_result"
    }
   ],
   "source": [
    "data[\"tweet\"].head(5)"
   ]
  },
  {
   "cell_type": "code",
   "execution_count": 20,
   "id": "ec46d61c-1103-45c8-ba31-31df5135a6c3",
   "metadata": {},
   "outputs": [],
   "source": [
    "data[\"tweet\"] = data['tweet'].str.replace(r'\\d+', '', regex=True)"
   ]
  },
  {
   "cell_type": "code",
   "execution_count": 21,
   "id": "5da36d8d-cf64-4e30-9902-ad69388e7184",
   "metadata": {},
   "outputs": [
    {
     "data": {
      "text/plain": [
       "7910    perfect match instagood applewatch red instagr...\n",
       "7911    i am completely in love with the new iphone em...\n",
       "7912    tune in turn on drop out  gtd in one app  mobi...\n",
       "7913    ok so my galaxy crashed after one day now i ha...\n",
       "7914    gain followers rt this must follow me i follow...\n",
       "7915    live out loud lol liveoutloud selfie smile son...\n",
       "7916    we would like to wish you an amazing day make ...\n",
       "7917    helping my lovely  year old neighbor with her ...\n",
       "7918    finally got my smart pocket wifi stay connecte...\n",
       "7919    apple barcelona apple store bcn barcelona trav...\n",
       "Name: tweet, dtype: object"
      ]
     },
     "execution_count": 21,
     "metadata": {},
     "output_type": "execute_result"
    }
   ],
   "source": [
    "data[\"tweet\"].tail(10)"
   ]
  },
  {
   "cell_type": "markdown",
   "id": "8456e0af-7720-479f-b634-64de226b0ef6",
   "metadata": {},
   "source": [
    "Remove Stopwords"
   ]
  },
  {
   "cell_type": "code",
   "execution_count": 22,
   "id": "b9726839-a951-4a8a-b8cc-241be8037e7e",
   "metadata": {},
   "outputs": [
    {
     "name": "stdout",
     "output_type": "stream",
     "text": [
      "Collecting nltk\n",
      "  Downloading nltk-3.9.1-py3-none-any.whl.metadata (2.9 kB)\n",
      "Collecting click (from nltk)\n",
      "  Using cached click-8.2.1-py3-none-any.whl.metadata (2.5 kB)\n",
      "Collecting joblib (from nltk)\n",
      "  Downloading joblib-1.5.2-py3-none-any.whl.metadata (5.6 kB)\n",
      "Collecting regex>=2021.8.3 (from nltk)\n",
      "  Downloading regex-2025.9.1-cp312-cp312-win_amd64.whl.metadata (41 kB)\n",
      "Requirement already satisfied: tqdm in d:\\self projects\\sentiment-analysis-project\\env\\lib\\site-packages (from nltk) (4.67.1)\n",
      "Requirement already satisfied: colorama in d:\\self projects\\sentiment-analysis-project\\env\\lib\\site-packages (from click->nltk) (0.4.6)\n",
      "Downloading nltk-3.9.1-py3-none-any.whl (1.5 MB)\n",
      "   ---------------------------------------- 0.0/1.5 MB ? eta -:--:--\n",
      "   ------ --------------------------------- 0.3/1.5 MB ? eta -:--:--\n",
      "   -------------------- ------------------- 0.8/1.5 MB 2.4 MB/s eta 0:00:01\n",
      "   --------------------------- ------------ 1.0/1.5 MB 2.2 MB/s eta 0:00:01\n",
      "   ---------------------------------------- 1.5/1.5 MB 2.0 MB/s eta 0:00:00\n",
      "Downloading regex-2025.9.1-cp312-cp312-win_amd64.whl (275 kB)\n",
      "Using cached click-8.2.1-py3-none-any.whl (102 kB)\n",
      "Downloading joblib-1.5.2-py3-none-any.whl (308 kB)\n",
      "Installing collected packages: regex, joblib, click, nltk\n",
      "\n",
      "   ---------- ----------------------------- 1/4 [joblib]\n",
      "   ---------- ----------------------------- 1/4 [joblib]\n",
      "   ---------- ----------------------------- 1/4 [joblib]\n",
      "   ---------- ----------------------------- 1/4 [joblib]\n",
      "   -------------------- ------------------- 2/4 [click]\n",
      "   ------------------------------ --------- 3/4 [nltk]\n",
      "   ------------------------------ --------- 3/4 [nltk]\n",
      "   ------------------------------ --------- 3/4 [nltk]\n",
      "   ------------------------------ --------- 3/4 [nltk]\n",
      "   ------------------------------ --------- 3/4 [nltk]\n",
      "   ------------------------------ --------- 3/4 [nltk]\n",
      "   ------------------------------ --------- 3/4 [nltk]\n",
      "   ------------------------------ --------- 3/4 [nltk]\n",
      "   ------------------------------ --------- 3/4 [nltk]\n",
      "   ------------------------------ --------- 3/4 [nltk]\n",
      "   ------------------------------ --------- 3/4 [nltk]\n",
      "   ------------------------------ --------- 3/4 [nltk]\n",
      "   ------------------------------ --------- 3/4 [nltk]\n",
      "   ------------------------------ --------- 3/4 [nltk]\n",
      "   ------------------------------ --------- 3/4 [nltk]\n",
      "   ------------------------------ --------- 3/4 [nltk]\n",
      "   ------------------------------ --------- 3/4 [nltk]\n",
      "   ------------------------------ --------- 3/4 [nltk]\n",
      "   ------------------------------ --------- 3/4 [nltk]\n",
      "   ------------------------------ --------- 3/4 [nltk]\n",
      "   ------------------------------ --------- 3/4 [nltk]\n",
      "   ------------------------------ --------- 3/4 [nltk]\n",
      "   ---------------------------------------- 4/4 [nltk]\n",
      "\n",
      "Successfully installed click-8.2.1 joblib-1.5.2 nltk-3.9.1 regex-2025.9.1\n"
     ]
    },
    {
     "name": "stderr",
     "output_type": "stream",
     "text": [
      "\n",
      "[notice] A new release of pip is available: 25.1.1 -> 25.2\n",
      "[notice] To update, run: python.exe -m pip install --upgrade pip\n"
     ]
    }
   ],
   "source": [
    "!pip install nltk"
   ]
  },
  {
   "cell_type": "code",
   "execution_count": 23,
   "id": "f10a93c6-4a64-4286-90e8-be8e9c11c2f5",
   "metadata": {},
   "outputs": [],
   "source": [
    "\n",
    "import nltk"
   ]
  },
  {
   "cell_type": "code",
   "execution_count": 24,
   "id": "34e76f27-5dcf-4123-bca4-46928ff50531",
   "metadata": {},
   "outputs": [
    {
     "name": "stderr",
     "output_type": "stream",
     "text": [
      "[nltk_data] Downloading package stopwords to ../static/model...\n",
      "[nltk_data]   Unzipping corpora\\stopwords.zip.\n"
     ]
    },
    {
     "data": {
      "text/plain": [
       "True"
      ]
     },
     "execution_count": 24,
     "metadata": {},
     "output_type": "execute_result"
    }
   ],
   "source": [
    "nltk.download('stopwords', download_dir='../static/model')"
   ]
  },
  {
   "cell_type": "code",
   "execution_count": 25,
   "id": "41edd64d-315e-485b-80b6-a9c8d96528c1",
   "metadata": {},
   "outputs": [],
   "source": [
    "with open('../static/model/corpora/stopwords/english', 'r') as file:\n",
    "    sw = file.read().splitlines()"
   ]
  },
  {
   "cell_type": "code",
   "execution_count": 26,
   "id": "6a38d6d9-aabf-49f8-8466-ca082e5d69da",
   "metadata": {},
   "outputs": [
    {
     "data": {
      "text/plain": [
       "['a',\n",
       " 'about',\n",
       " 'above',\n",
       " 'after',\n",
       " 'again',\n",
       " 'against',\n",
       " 'ain',\n",
       " 'all',\n",
       " 'am',\n",
       " 'an',\n",
       " 'and',\n",
       " 'any',\n",
       " 'are',\n",
       " 'aren',\n",
       " \"aren't\",\n",
       " 'as',\n",
       " 'at',\n",
       " 'be',\n",
       " 'because',\n",
       " 'been',\n",
       " 'before',\n",
       " 'being',\n",
       " 'below',\n",
       " 'between',\n",
       " 'both',\n",
       " 'but',\n",
       " 'by',\n",
       " 'can',\n",
       " 'couldn',\n",
       " \"couldn't\",\n",
       " 'd',\n",
       " 'did',\n",
       " 'didn',\n",
       " \"didn't\",\n",
       " 'do',\n",
       " 'does',\n",
       " 'doesn',\n",
       " \"doesn't\",\n",
       " 'doing',\n",
       " 'don',\n",
       " \"don't\",\n",
       " 'down',\n",
       " 'during',\n",
       " 'each',\n",
       " 'few',\n",
       " 'for',\n",
       " 'from',\n",
       " 'further',\n",
       " 'had',\n",
       " 'hadn',\n",
       " \"hadn't\",\n",
       " 'has',\n",
       " 'hasn',\n",
       " \"hasn't\",\n",
       " 'have',\n",
       " 'haven',\n",
       " \"haven't\",\n",
       " 'having',\n",
       " 'he',\n",
       " \"he'd\",\n",
       " \"he'll\",\n",
       " 'her',\n",
       " 'here',\n",
       " 'hers',\n",
       " 'herself',\n",
       " \"he's\",\n",
       " 'him',\n",
       " 'himself',\n",
       " 'his',\n",
       " 'how',\n",
       " 'i',\n",
       " \"i'd\",\n",
       " 'if',\n",
       " \"i'll\",\n",
       " \"i'm\",\n",
       " 'in',\n",
       " 'into',\n",
       " 'is',\n",
       " 'isn',\n",
       " \"isn't\",\n",
       " 'it',\n",
       " \"it'd\",\n",
       " \"it'll\",\n",
       " \"it's\",\n",
       " 'its',\n",
       " 'itself',\n",
       " \"i've\",\n",
       " 'just',\n",
       " 'll',\n",
       " 'm',\n",
       " 'ma',\n",
       " 'me',\n",
       " 'mightn',\n",
       " \"mightn't\",\n",
       " 'more',\n",
       " 'most',\n",
       " 'mustn',\n",
       " \"mustn't\",\n",
       " 'my',\n",
       " 'myself',\n",
       " 'needn',\n",
       " \"needn't\",\n",
       " 'no',\n",
       " 'nor',\n",
       " 'not',\n",
       " 'now',\n",
       " 'o',\n",
       " 'of',\n",
       " 'off',\n",
       " 'on',\n",
       " 'once',\n",
       " 'only',\n",
       " 'or',\n",
       " 'other',\n",
       " 'our',\n",
       " 'ours',\n",
       " 'ourselves',\n",
       " 'out',\n",
       " 'over',\n",
       " 'own',\n",
       " 're',\n",
       " 's',\n",
       " 'same',\n",
       " 'shan',\n",
       " \"shan't\",\n",
       " 'she',\n",
       " \"she'd\",\n",
       " \"she'll\",\n",
       " \"she's\",\n",
       " 'should',\n",
       " 'shouldn',\n",
       " \"shouldn't\",\n",
       " \"should've\",\n",
       " 'so',\n",
       " 'some',\n",
       " 'such',\n",
       " 't',\n",
       " 'than',\n",
       " 'that',\n",
       " \"that'll\",\n",
       " 'the',\n",
       " 'their',\n",
       " 'theirs',\n",
       " 'them',\n",
       " 'themselves',\n",
       " 'then',\n",
       " 'there',\n",
       " 'these',\n",
       " 'they',\n",
       " \"they'd\",\n",
       " \"they'll\",\n",
       " \"they're\",\n",
       " \"they've\",\n",
       " 'this',\n",
       " 'those',\n",
       " 'through',\n",
       " 'to',\n",
       " 'too',\n",
       " 'under',\n",
       " 'until',\n",
       " 'up',\n",
       " 've',\n",
       " 'very',\n",
       " 'was',\n",
       " 'wasn',\n",
       " \"wasn't\",\n",
       " 'we',\n",
       " \"we'd\",\n",
       " \"we'll\",\n",
       " \"we're\",\n",
       " 'were',\n",
       " 'weren',\n",
       " \"weren't\",\n",
       " \"we've\",\n",
       " 'what',\n",
       " 'when',\n",
       " 'where',\n",
       " 'which',\n",
       " 'while',\n",
       " 'who',\n",
       " 'whom',\n",
       " 'why',\n",
       " 'will',\n",
       " 'with',\n",
       " 'won',\n",
       " \"won't\",\n",
       " 'wouldn',\n",
       " \"wouldn't\",\n",
       " 'y',\n",
       " 'you',\n",
       " \"you'd\",\n",
       " \"you'll\",\n",
       " 'your',\n",
       " \"you're\",\n",
       " 'yours',\n",
       " 'yourself',\n",
       " 'yourselves',\n",
       " \"you've\"]"
      ]
     },
     "execution_count": 26,
     "metadata": {},
     "output_type": "execute_result"
    }
   ],
   "source": [
    "sw"
   ]
  },
  {
   "cell_type": "code",
   "execution_count": 27,
   "id": "dbeabebf-c4e2-4423-957b-192f491213b9",
   "metadata": {},
   "outputs": [],
   "source": [
    "data[\"tweet\"] = data[\"tweet\"].apply(lambda x: \" \".join(x for x in x.split() if x not in sw))"
   ]
  },
  {
   "cell_type": "code",
   "execution_count": 28,
   "id": "8acf4103-79ab-46ed-b4dc-0c168bfc7f49",
   "metadata": {},
   "outputs": [
    {
     "data": {
      "text/plain": [
       "0    fingerprint pregnancy test android apps beauti...\n",
       "1    finally transparant silicon case thanks uncle ...\n",
       "2    love would go talk makememories unplug relax i...\n",
       "3    im wired know im george made way iphone cute d...\n",
       "4    amazing service apple wont even talk question ...\n",
       "Name: tweet, dtype: object"
      ]
     },
     "execution_count": 28,
     "metadata": {},
     "output_type": "execute_result"
    }
   ],
   "source": [
    "\n",
    "data[\"tweet\"].head()"
   ]
  },
  {
   "cell_type": "markdown",
   "id": "e5ab8bae-febd-4674-9b5c-1a81c28a8bc9",
   "metadata": {},
   "source": [
    "\n",
    "Stemming"
   ]
  },
  {
   "cell_type": "code",
   "execution_count": 29,
   "id": "fb1b26be-70ce-41d1-b01f-30917fe0f361",
   "metadata": {},
   "outputs": [],
   "source": [
    "\n",
    "from nltk.stem import PorterStemmer\n",
    "ps = PorterStemmer()"
   ]
  },
  {
   "cell_type": "code",
   "execution_count": 30,
   "id": "19632741-3973-4294-afa9-3f1ea63ff483",
   "metadata": {},
   "outputs": [],
   "source": [
    "data[\"tweet\"] = data[\"tweet\"].apply(lambda x: \" \".join(ps.stem(x) for x in x.split()))"
   ]
  },
  {
   "cell_type": "code",
   "execution_count": 31,
   "id": "06bcb8d5-de06-403a-8930-f997c4fcd53e",
   "metadata": {},
   "outputs": [
    {
     "data": {
      "text/plain": [
       "0    fingerprint pregnanc test android app beauti c...\n",
       "1    final transpar silicon case thank uncl yay son...\n",
       "2    love would go talk makememori unplug relax iph...\n",
       "3    im wire know im georg made way iphon cute dave...\n",
       "4    amaz servic appl wont even talk question unles...\n",
       "Name: tweet, dtype: object"
      ]
     },
     "execution_count": 31,
     "metadata": {},
     "output_type": "execute_result"
    }
   ],
   "source": [
    "data[\"tweet\"].head()"
   ]
  },
  {
   "cell_type": "code",
   "execution_count": 32,
   "id": "868c84aa-23f6-4a28-9b3d-70895fb7a3c7",
   "metadata": {},
   "outputs": [
    {
     "data": {
      "text/html": [
       "<div>\n",
       "<style scoped>\n",
       "    .dataframe tbody tr th:only-of-type {\n",
       "        vertical-align: middle;\n",
       "    }\n",
       "\n",
       "    .dataframe tbody tr th {\n",
       "        vertical-align: top;\n",
       "    }\n",
       "\n",
       "    .dataframe thead th {\n",
       "        text-align: right;\n",
       "    }\n",
       "</style>\n",
       "<table border=\"1\" class=\"dataframe\">\n",
       "  <thead>\n",
       "    <tr style=\"text-align: right;\">\n",
       "      <th></th>\n",
       "      <th>id</th>\n",
       "      <th>label</th>\n",
       "      <th>tweet</th>\n",
       "    </tr>\n",
       "  </thead>\n",
       "  <tbody>\n",
       "    <tr>\n",
       "      <th>0</th>\n",
       "      <td>1</td>\n",
       "      <td>0</td>\n",
       "      <td>fingerprint pregnanc test android app beauti c...</td>\n",
       "    </tr>\n",
       "    <tr>\n",
       "      <th>1</th>\n",
       "      <td>2</td>\n",
       "      <td>0</td>\n",
       "      <td>final transpar silicon case thank uncl yay son...</td>\n",
       "    </tr>\n",
       "    <tr>\n",
       "      <th>2</th>\n",
       "      <td>3</td>\n",
       "      <td>0</td>\n",
       "      <td>love would go talk makememori unplug relax iph...</td>\n",
       "    </tr>\n",
       "    <tr>\n",
       "      <th>3</th>\n",
       "      <td>4</td>\n",
       "      <td>0</td>\n",
       "      <td>im wire know im georg made way iphon cute dave...</td>\n",
       "    </tr>\n",
       "    <tr>\n",
       "      <th>4</th>\n",
       "      <td>5</td>\n",
       "      <td>1</td>\n",
       "      <td>amaz servic appl wont even talk question unles...</td>\n",
       "    </tr>\n",
       "    <tr>\n",
       "      <th>...</th>\n",
       "      <td>...</td>\n",
       "      <td>...</td>\n",
       "      <td>...</td>\n",
       "    </tr>\n",
       "    <tr>\n",
       "      <th>7915</th>\n",
       "      <td>7916</td>\n",
       "      <td>0</td>\n",
       "      <td>live loud lol liveoutloud selfi smile soni mus...</td>\n",
       "    </tr>\n",
       "    <tr>\n",
       "      <th>7916</th>\n",
       "      <td>7917</td>\n",
       "      <td>0</td>\n",
       "      <td>would like wish amaz day make everi minut coun...</td>\n",
       "    </tr>\n",
       "    <tr>\n",
       "      <th>7917</th>\n",
       "      <td>7918</td>\n",
       "      <td>0</td>\n",
       "      <td>help love year old neighbor ipad morn made rea...</td>\n",
       "    </tr>\n",
       "    <tr>\n",
       "      <th>7918</th>\n",
       "      <td>7919</td>\n",
       "      <td>0</td>\n",
       "      <td>final got smart pocket wifi stay connect anyti...</td>\n",
       "    </tr>\n",
       "    <tr>\n",
       "      <th>7919</th>\n",
       "      <td>7920</td>\n",
       "      <td>0</td>\n",
       "      <td>appl barcelona appl store bcn barcelona travel...</td>\n",
       "    </tr>\n",
       "  </tbody>\n",
       "</table>\n",
       "<p>7920 rows × 3 columns</p>\n",
       "</div>"
      ],
      "text/plain": [
       "        id  label                                              tweet\n",
       "0        1      0  fingerprint pregnanc test android app beauti c...\n",
       "1        2      0  final transpar silicon case thank uncl yay son...\n",
       "2        3      0  love would go talk makememori unplug relax iph...\n",
       "3        4      0  im wire know im georg made way iphon cute dave...\n",
       "4        5      1  amaz servic appl wont even talk question unles...\n",
       "...    ...    ...                                                ...\n",
       "7915  7916      0  live loud lol liveoutloud selfi smile soni mus...\n",
       "7916  7917      0  would like wish amaz day make everi minut coun...\n",
       "7917  7918      0  help love year old neighbor ipad morn made rea...\n",
       "7918  7919      0  final got smart pocket wifi stay connect anyti...\n",
       "7919  7920      0  appl barcelona appl store bcn barcelona travel...\n",
       "\n",
       "[7920 rows x 3 columns]"
      ]
     },
     "execution_count": 32,
     "metadata": {},
     "output_type": "execute_result"
    }
   ],
   "source": [
    "data"
   ]
  },
  {
   "cell_type": "markdown",
   "id": "190e33d5-7255-4968-a2e1-0f13e9c2770f",
   "metadata": {},
   "source": [
    "## Building Vacabulary"
   ]
  },
  {
   "cell_type": "code",
   "execution_count": 33,
   "id": "b9994a4e-3ff9-4ff1-ae29-cfb14d6cb6a2",
   "metadata": {},
   "outputs": [],
   "source": [
    "from collections import Counter\n",
    "vocab = Counter()"
   ]
  },
  {
   "cell_type": "code",
   "execution_count": 34,
   "id": "5632f9a9-e6c7-4bed-b2e7-f0c25caa9af7",
   "metadata": {},
   "outputs": [
    {
     "data": {
      "text/plain": [
       "Counter()"
      ]
     },
     "execution_count": 34,
     "metadata": {},
     "output_type": "execute_result"
    }
   ],
   "source": [
    "vocab"
   ]
  },
  {
   "cell_type": "code",
   "execution_count": 35,
   "id": "cbf20714-18f9-4443-831a-9c72c41464ad",
   "metadata": {},
   "outputs": [],
   "source": [
    "for sentence in data['tweet']:\n",
    "    vocab.update(sentence.split())"
   ]
  },
  {
   "cell_type": "code",
   "execution_count": 36,
   "id": "9f50fb4d-0226-4385-8ed5-a78570b7a8f4",
   "metadata": {},
   "outputs": [
    {
     "data": {
      "text/plain": [
       "15949"
      ]
     },
     "execution_count": 36,
     "metadata": {},
     "output_type": "execute_result"
    }
   ],
   "source": [
    "len(vocab)"
   ]
  },
  {
   "cell_type": "code",
   "execution_count": 37,
   "id": "ceb0e766-91c4-4224-9827-92c8e327193e",
   "metadata": {},
   "outputs": [
    {
     "data": {
      "text/plain": [
       "(7920, 3)"
      ]
     },
     "execution_count": 37,
     "metadata": {},
     "output_type": "execute_result"
    }
   ],
   "source": [
    "data.shape"
   ]
  },
  {
   "cell_type": "code",
   "execution_count": 38,
   "id": "416de9d7-7a3a-4afe-bb99-71eb3017a689",
   "metadata": {},
   "outputs": [],
   "source": [
    "tokens = [key for key in vocab if vocab[key] > 10]"
   ]
  },
  {
   "cell_type": "code",
   "execution_count": 39,
   "id": "74414109-6193-4cd5-8768-8c4169f00e97",
   "metadata": {},
   "outputs": [
    {
     "data": {
      "text/plain": [
       "['test',\n",
       " 'android',\n",
       " 'app',\n",
       " 'beauti',\n",
       " 'cute',\n",
       " 'health',\n",
       " 'iger',\n",
       " 'iphoneonli',\n",
       " 'iphonesia',\n",
       " 'iphon',\n",
       " 'final',\n",
       " 'case',\n",
       " 'thank',\n",
       " 'yay',\n",
       " 'soni',\n",
       " 'xperia',\n",
       " 'love',\n",
       " 'would',\n",
       " 'go',\n",
       " 'talk',\n",
       " 'relax',\n",
       " 'smartphon',\n",
       " 'wifi',\n",
       " 'connect',\n",
       " 'im',\n",
       " 'know',\n",
       " 'made',\n",
       " 'way',\n",
       " 'home',\n",
       " 'amaz',\n",
       " 'servic',\n",
       " 'appl',\n",
       " 'wont',\n",
       " 'even',\n",
       " 'question',\n",
       " 'pay',\n",
       " 'stupid',\n",
       " 'support',\n",
       " 'softwar',\n",
       " 'updat',\n",
       " 'fuck',\n",
       " 'phone',\n",
       " 'big',\n",
       " 'time',\n",
       " 'happi',\n",
       " 'us',\n",
       " 'instap',\n",
       " 'instadaili',\n",
       " 'xperiaz',\n",
       " 'new',\n",
       " 'type',\n",
       " 'c',\n",
       " 'charger',\n",
       " 'cabl',\n",
       " 'uk',\n",
       " '…',\n",
       " 'amazon',\n",
       " 'year',\n",
       " 'newyear',\n",
       " 'start',\n",
       " 'technolog',\n",
       " 'samsunggalaxi',\n",
       " 'iphonex',\n",
       " 'shop',\n",
       " 'listen',\n",
       " 'music',\n",
       " 'likeforlik',\n",
       " 'photo',\n",
       " 'fun',\n",
       " 'selfi',\n",
       " 'water',\n",
       " 'camera',\n",
       " 'picoftheday',\n",
       " 'sun',\n",
       " 'instagood',\n",
       " 'boy',\n",
       " 'outdoor',\n",
       " 'hey',\n",
       " 'make',\n",
       " 'ipod',\n",
       " 'dont',\n",
       " 'color',\n",
       " 'inch',\n",
       " 'crash',\n",
       " 'everi',\n",
       " 'need',\n",
       " 'realli',\n",
       " 'drop',\n",
       " 'ball',\n",
       " 'design',\n",
       " 'give',\n",
       " 'anoth',\n",
       " 'crazi',\n",
       " 'purchas',\n",
       " 'lol',\n",
       " 'work',\n",
       " 'hard',\n",
       " 'play',\n",
       " 'ipad',\n",
       " 'batteri',\n",
       " 'charg',\n",
       " 'dead',\n",
       " 'saturday',\n",
       " 'summer',\n",
       " 'like',\n",
       " 'share',\n",
       " 'want',\n",
       " 'instagram',\n",
       " 'photooftheday',\n",
       " 'tweegram',\n",
       " 'reason',\n",
       " 'one',\n",
       " 'suck',\n",
       " 'truth',\n",
       " 'agre',\n",
       " 'fact',\n",
       " 'store',\n",
       " 'screen',\n",
       " 'monday',\n",
       " 'ur',\n",
       " 'art',\n",
       " 'easter',\n",
       " 'dear',\n",
       " 'friend',\n",
       " 'face',\n",
       " 'email',\n",
       " 'seem',\n",
       " 'pie',\n",
       " 'wife',\n",
       " 'ive',\n",
       " 'day',\n",
       " 'button',\n",
       " 'back',\n",
       " 'broke',\n",
       " 'hit',\n",
       " 'goe',\n",
       " 'complet',\n",
       " 'black',\n",
       " 'keep',\n",
       " 'get',\n",
       " 'text',\n",
       " 'cant',\n",
       " 'check',\n",
       " 'wallpap',\n",
       " 'wall',\n",
       " 'galaxi',\n",
       " 'samsung',\n",
       " 'patent',\n",
       " 'million',\n",
       " 'parti',\n",
       " 'mess',\n",
       " 'havent',\n",
       " 'done',\n",
       " 'noth',\n",
       " 'touch',\n",
       " 'lose',\n",
       " 'pic',\n",
       " 'kill',\n",
       " 'someon',\n",
       " 'hateappl',\n",
       " 'flower',\n",
       " 'green',\n",
       " 'must',\n",
       " 'watch',\n",
       " 'youtub',\n",
       " 'subscrib',\n",
       " 'daili',\n",
       " 'vlog',\n",
       " 'twitch',\n",
       " 'game',\n",
       " 'ps',\n",
       " 'xbox',\n",
       " 'io',\n",
       " 'live',\n",
       " 'laugh',\n",
       " 'life',\n",
       " 'food',\n",
       " 'instago',\n",
       " 'instahub',\n",
       " 'instagram…',\n",
       " 'friendship',\n",
       " 'dog',\n",
       " 'famili',\n",
       " 'goal',\n",
       " 'bestfriend',\n",
       " 'america',\n",
       " 'taken',\n",
       " 'sunset',\n",
       " 'sky',\n",
       " 'sister',\n",
       " 'bought',\n",
       " 'earli',\n",
       " 'bday',\n",
       " 'gift',\n",
       " 'receiv',\n",
       " 'note',\n",
       " 'mani',\n",
       " 'market',\n",
       " 'delet',\n",
       " 'song',\n",
       " 'itun',\n",
       " 'freak',\n",
       " 'window',\n",
       " 'advanc',\n",
       " 'custom',\n",
       " 'stand',\n",
       " 'bad',\n",
       " 'cheap',\n",
       " 'tech',\n",
       " 'bull',\n",
       " 'smile',\n",
       " 'creat',\n",
       " 'let',\n",
       " 'sunday',\n",
       " 'alway',\n",
       " 'eye',\n",
       " 'ootd',\n",
       " 'fashion',\n",
       " 'blackandwhit',\n",
       " 'film',\n",
       " 'set',\n",
       " 'video',\n",
       " 'produc',\n",
       " 'follow',\n",
       " 'movi',\n",
       " 'act',\n",
       " 'pink',\n",
       " 'sweet',\n",
       " 'sexi',\n",
       " 'ladi',\n",
       " 'week',\n",
       " 'end',\n",
       " 'iphoneplu',\n",
       " 'moment',\n",
       " 'see',\n",
       " 'differ',\n",
       " 'photographi',\n",
       " 'natur',\n",
       " 'landscap',\n",
       " 'view',\n",
       " 'tree',\n",
       " 'travel',\n",
       " 'googl',\n",
       " 'cut',\n",
       " 'program',\n",
       " 'look',\n",
       " 'got',\n",
       " 'christma',\n",
       " 'girl',\n",
       " 'instacool',\n",
       " 'free',\n",
       " 'appstor',\n",
       " 'joy',\n",
       " 'peac',\n",
       " 'reflect',\n",
       " 'rememb',\n",
       " 'cloud',\n",
       " 'gr',\n",
       " 'iphone…',\n",
       " 'babi',\n",
       " 'pet',\n",
       " 'news',\n",
       " 'fail',\n",
       " 'funni',\n",
       " 'hate',\n",
       " 'tablet',\n",
       " 'person',\n",
       " 'use',\n",
       " 'fan',\n",
       " 'think',\n",
       " 'product',\n",
       " 'friday',\n",
       " 'call',\n",
       " 'blackfriday',\n",
       " 'holiday',\n",
       " 'newyork',\n",
       " 'busi',\n",
       " 'money',\n",
       " 'birthday',\n",
       " 'tv',\n",
       " 'comput',\n",
       " 'school',\n",
       " 'serious',\n",
       " 'month',\n",
       " 'good',\n",
       " 'job',\n",
       " 'actual',\n",
       " '£',\n",
       " 'replac',\n",
       " 'that',\n",
       " 'still',\n",
       " 'rt',\n",
       " 'droid',\n",
       " 'cool',\n",
       " 'pictur',\n",
       " 'l',\n",
       " 'run',\n",
       " 'beach',\n",
       " 'sport',\n",
       " 'bit',\n",
       " 'hashtag',\n",
       " 'yet',\n",
       " 'arriv',\n",
       " 'gain',\n",
       " 'everyon',\n",
       " 'sougofollow',\n",
       " 'ff',\n",
       " 'iphoneographi',\n",
       " 'iphonephotographi',\n",
       " 'mobil',\n",
       " 'bright',\n",
       " 'user',\n",
       " 'date',\n",
       " 'less',\n",
       " 'random',\n",
       " 'instamood',\n",
       " 'wine',\n",
       " 'creativ',\n",
       " 'hot',\n",
       " 'icon',\n",
       " 'origin',\n",
       " 'pop',\n",
       " 'red',\n",
       " 'rock',\n",
       " 'soul',\n",
       " 'singer',\n",
       " 'univers',\n",
       " 'wed',\n",
       " 'thought',\n",
       " 'id',\n",
       " 'lost',\n",
       " 'ipadmini',\n",
       " 'feel',\n",
       " 'broken',\n",
       " 'light',\n",
       " 'pleas',\n",
       " 'indonesia',\n",
       " 'gold',\n",
       " 'potd',\n",
       " 'reset',\n",
       " 'sorri',\n",
       " 'white',\n",
       " 'tea',\n",
       " 'chill',\n",
       " 'cover',\n",
       " 'g',\n",
       " 'came',\n",
       " 'magic',\n",
       " 'come',\n",
       " 'followsunday',\n",
       " 'followback',\n",
       " 'teamfollowback',\n",
       " 'retweet',\n",
       " 'ya',\n",
       " 'thing',\n",
       " 'i’m',\n",
       " 'it’',\n",
       " 'alreadi',\n",
       " 'problem',\n",
       " 'issu',\n",
       " 'abl',\n",
       " 'sonya',\n",
       " 'shoot',\n",
       " 'put',\n",
       " 'price',\n",
       " 'devic',\n",
       " 'win',\n",
       " 'box',\n",
       " 'memori',\n",
       " 'brother',\n",
       " '–',\n",
       " 'oh',\n",
       " 'lip',\n",
       " 'enjoy',\n",
       " 'playstat',\n",
       " 'gamer',\n",
       " 'someth',\n",
       " 'wrong',\n",
       " 'right',\n",
       " 'today',\n",
       " 'earphon',\n",
       " 'lifestyl',\n",
       " 'fuckyou',\n",
       " 'never',\n",
       " 'bug',\n",
       " 'littl',\n",
       " 'qualiti',\n",
       " 'girlfriend',\n",
       " 'card',\n",
       " 'z',\n",
       " 'present',\n",
       " 'mom',\n",
       " 'macbookpro',\n",
       " 'macbook',\n",
       " 'quot',\n",
       " 'word',\n",
       " 'tweetgram',\n",
       " 'great',\n",
       " 'repair',\n",
       " 'hour',\n",
       " 'everyth',\n",
       " 'mode',\n",
       " 'usa',\n",
       " 'compani',\n",
       " 'model',\n",
       " 'cd',\n",
       " 'featur',\n",
       " 'didnt',\n",
       " 'coffe',\n",
       " 'effect',\n",
       " 'spring',\n",
       " 'galaxynot',\n",
       " 'special',\n",
       " 'valentin',\n",
       " 'nowplay',\n",
       " 'daughter',\n",
       " 'poem',\n",
       " 'car',\n",
       " 'sign',\n",
       " 'lunch',\n",
       " 'park',\n",
       " 'banana',\n",
       " 'autumn',\n",
       " 'spend',\n",
       " 'much',\n",
       " 'book',\n",
       " 'say',\n",
       " 'u',\n",
       " 'took',\n",
       " 'download',\n",
       " 'ad',\n",
       " 'twitter',\n",
       " 'educ',\n",
       " 'n',\n",
       " 'miss',\n",
       " 'last',\n",
       " 'min',\n",
       " 'tmobil',\n",
       " 'rid',\n",
       " 'absolut',\n",
       " 'annoy',\n",
       " 'level',\n",
       " 'buy',\n",
       " 'full',\n",
       " 'version',\n",
       " 'import',\n",
       " 'mood',\n",
       " 'blog',\n",
       " 'style',\n",
       " 'bestoftheday',\n",
       " 'pretti',\n",
       " 'babe',\n",
       " 'send',\n",
       " 'turn',\n",
       " 'imessag',\n",
       " 'sleep',\n",
       " 'popular',\n",
       " 'tweet',\n",
       " 'shotoniphon',\n",
       " 'photograph',\n",
       " 'sync',\n",
       " 'second',\n",
       " 'fml',\n",
       " 'candi',\n",
       " 'nice',\n",
       " 'wait',\n",
       " 'hand',\n",
       " 'gb',\n",
       " 'first',\n",
       " 'bar',\n",
       " 'key',\n",
       " 'long',\n",
       " 'cold',\n",
       " 'boot',\n",
       " 'siri',\n",
       " 'doesnt',\n",
       " 'liter',\n",
       " 'cri',\n",
       " 'contact',\n",
       " 'wonder',\n",
       " 'avail',\n",
       " 'b',\n",
       " 'laptop',\n",
       " 'vaio',\n",
       " 'blackberri',\n",
       " 'best',\n",
       " 'fruit',\n",
       " 'fall',\n",
       " 'soon',\n",
       " 'yum',\n",
       " 'mac',\n",
       " 'display',\n",
       " 'told',\n",
       " 'stop',\n",
       " 'p',\n",
       " 'three',\n",
       " 'ship',\n",
       " 'gear',\n",
       " 'well',\n",
       " 'past',\n",
       " 'singl',\n",
       " 'capetownsup',\n",
       " 'sup',\n",
       " 'surf',\n",
       " 'capetown',\n",
       " 'pro',\n",
       " 'half',\n",
       " 'stuff',\n",
       " 'excit',\n",
       " 'open',\n",
       " 'mine',\n",
       " 'piss',\n",
       " 'offici',\n",
       " 'keyboard',\n",
       " 'okay',\n",
       " 'though',\n",
       " 'enough',\n",
       " 'simpl',\n",
       " 'th',\n",
       " 'refus',\n",
       " 'night',\n",
       " 'son',\n",
       " 'instagood…',\n",
       " 'jj',\n",
       " 'makeup',\n",
       " 'valentinesday',\n",
       " 'februari',\n",
       " 'portrait',\n",
       " 'shot',\n",
       " 'sonyalpha',\n",
       " 'mm',\n",
       " 'password',\n",
       " 'zoom',\n",
       " 'stevejob',\n",
       " 'yall',\n",
       " 'addict',\n",
       " 'prophet',\n",
       " 'husband',\n",
       " 'kindl',\n",
       " 'a…',\n",
       " 'upgrad',\n",
       " 'help',\n",
       " 'children',\n",
       " 'there',\n",
       " 'least',\n",
       " 'tab',\n",
       " 'real',\n",
       " 'visit',\n",
       " 'hi',\n",
       " 'world',\n",
       " 'old',\n",
       " 'followm',\n",
       " 'likelik',\n",
       " 'samsung…',\n",
       " 'swag',\n",
       " 'cat',\n",
       " 'edit',\n",
       " 'sick',\n",
       " 'paint',\n",
       " 'bullshit',\n",
       " 'may',\n",
       " 'perfect',\n",
       " 'instaphoto',\n",
       " 'welcom',\n",
       " 'draw',\n",
       " 'os',\n",
       " 'throw',\n",
       " 'fast',\n",
       " 'w',\n",
       " 'take',\n",
       " 'two',\n",
       " 'next',\n",
       " 'offer',\n",
       " 'middl',\n",
       " 'access',\n",
       " 'account',\n",
       " 'find',\n",
       " 'citi',\n",
       " 'stori',\n",
       " 'destini',\n",
       " 'awesom',\n",
       " 'accessori',\n",
       " 'info',\n",
       " 'goodnight',\n",
       " 'dream',\n",
       " 'hope',\n",
       " 'uae',\n",
       " 'lucki',\n",
       " 'deal',\n",
       " 'passion',\n",
       " 'read',\n",
       " 'edm',\n",
       " 'whole',\n",
       " 'playlist',\n",
       " 'god',\n",
       " 'nx',\n",
       " 'cuti',\n",
       " 'high',\n",
       " 'usb',\n",
       " 'geek',\n",
       " 'bot',\n",
       " 'gadget',\n",
       " 'power',\n",
       " 'pc',\n",
       " 'sprint',\n",
       " 'pick',\n",
       " 'wish',\n",
       " 'minut',\n",
       " 'count',\n",
       " 'tl',\n",
       " 'drive',\n",
       " 'nyc',\n",
       " 'gay',\n",
       " 'readi',\n",
       " 'cellphon',\n",
       " 'space',\n",
       " 'ny',\n",
       " 'tattoo',\n",
       " 'total',\n",
       " 'ye',\n",
       " 'via',\n",
       " 'air',\n",
       " 'instal',\n",
       " 'fit',\n",
       " 'plu',\n",
       " 'sim',\n",
       " 'florida',\n",
       " 'sale',\n",
       " 'nokia',\n",
       " 'motorola',\n",
       " 'lg',\n",
       " 'without',\n",
       " 'hold',\n",
       " 'speed',\n",
       " 'unitedst',\n",
       " 'guitarplay',\n",
       " 'smart',\n",
       " 'crap',\n",
       " 'calendar',\n",
       " 'event',\n",
       " 'icloud',\n",
       " 'angri',\n",
       " 'bird',\n",
       " 'freez',\n",
       " 'ever',\n",
       " 'sinc',\n",
       " 'team',\n",
       " 'tri',\n",
       " 'convers',\n",
       " 'wouldnt',\n",
       " 'small',\n",
       " 'blue',\n",
       " '—',\n",
       " 'steemit',\n",
       " 'sonylen',\n",
       " 'len',\n",
       " 'sonyphotographi',\n",
       " 'imag',\n",
       " 'photofe',\n",
       " 'feed',\n",
       " 'yeah',\n",
       " 'gorgeou',\n",
       " 'ig',\n",
       " 'orang',\n",
       " 'haha',\n",
       " 'dress',\n",
       " 'lock',\n",
       " 'speaker',\n",
       " 'reallyr',\n",
       " 'colleg',\n",
       " 'true',\n",
       " 'chocol',\n",
       " 'shit',\n",
       " 'ador',\n",
       " 'nofilt',\n",
       " 'drink',\n",
       " 'purpl',\n",
       " 'tasti',\n",
       " 'garden',\n",
       " 'андроид',\n",
       " 'guy',\n",
       " 'bestpric',\n",
       " 'jun',\n",
       " 'unlock',\n",
       " 'caus',\n",
       " 'manag',\n",
       " 'mommi',\n",
       " 'bless',\n",
       " 'could',\n",
       " 'chines',\n",
       " 'close',\n",
       " 'system',\n",
       " 'morn',\n",
       " 'nike',\n",
       " 'goodmorn',\n",
       " 'r',\n",
       " 'imac',\n",
       " 'sell',\n",
       " 'mad',\n",
       " 'purpos',\n",
       " 'pari',\n",
       " 'answer',\n",
       " 'roll',\n",
       " 'verizon',\n",
       " 'headphon',\n",
       " 'show',\n",
       " 'sound',\n",
       " 'itali',\n",
       " 'socialmedia',\n",
       " 'learn',\n",
       " 'smoke',\n",
       " 'tomorrow',\n",
       " 'here',\n",
       " 'delici',\n",
       " 'far',\n",
       " 'away',\n",
       " 'ebay',\n",
       " 'fix',\n",
       " 'easi',\n",
       " 'silver',\n",
       " 'oneplu',\n",
       " 'provid',\n",
       " 'experi',\n",
       " 'flag',\n",
       " 'emoji',\n",
       " 'chang',\n",
       " 'al',\n",
       " 'april',\n",
       " 'man',\n",
       " 'wanna',\n",
       " 'your',\n",
       " 'tell',\n",
       " 'kid',\n",
       " 'backup',\n",
       " 'peopl',\n",
       " 'dad',\n",
       " 'anyon',\n",
       " 'els',\n",
       " 'block',\n",
       " 'number',\n",
       " 'possibl',\n",
       " 'frustrat',\n",
       " 'file',\n",
       " 'bro',\n",
       " 'rhyme',\n",
       " 'thx',\n",
       " 'jailbreak',\n",
       " 'sit',\n",
       " 'restor',\n",
       " 'stock',\n",
       " 'mother',\n",
       " 'igdaili',\n",
       " 'marri',\n",
       " 'healthi',\n",
       " 'ugh',\n",
       " 'x',\n",
       " 'bc',\n",
       " 'gratitud',\n",
       " 'edg',\n",
       " 'unbox',\n",
       " 'wow',\n",
       " 'sonyphoto',\n",
       " 'top',\n",
       " 'phonecas',\n",
       " 'june',\n",
       " 'sad',\n",
       " 'yellow',\n",
       " 'woman',\n",
       " 'might',\n",
       " 'india',\n",
       " 'canada',\n",
       " 'europ',\n",
       " 'super',\n",
       " 'care',\n",
       " 'map',\n",
       " 'applestor',\n",
       " 'hello',\n",
       " 'order',\n",
       " 'sent',\n",
       " 'went',\n",
       " 'wasnt',\n",
       " 'insta',\n",
       " 'newphon',\n",
       " 'fish',\n",
       " 'london',\n",
       " 'vsco',\n",
       " 'track',\n",
       " 'catch',\n",
       " 'finger',\n",
       " 'anymor',\n",
       " 'captur',\n",
       " 'futur',\n",
       " 'cell',\n",
       " 'instalik',\n",
       " 'sony…',\n",
       " 'march',\n",
       " 'proud',\n",
       " 'hateiphon',\n",
       " 'sticker',\n",
       " 'vscocam',\n",
       " 'bring',\n",
       " 'better',\n",
       " 'kiss',\n",
       " 'heart',\n",
       " 'fresh',\n",
       " 'librari',\n",
       " 'inspir',\n",
       " 'inlov',\n",
       " 'luxuri',\n",
       " 'exquisit',\n",
       " 'squishi',\n",
       " 'charm',\n",
       " 'strap',\n",
       " 'toy',\n",
       " 'decor',\n",
       " 'cake',\n",
       " 'theyr',\n",
       " 'lte',\n",
       " 'facebook',\n",
       " 'wipe',\n",
       " 'human',\n",
       " 'bff',\n",
       " 'instalov',\n",
       " 'storag',\n",
       " 'wake',\n",
       " 'shitti',\n",
       " 'wast',\n",
       " 'switch',\n",
       " 'blond',\n",
       " 'load',\n",
       " 'sue',\n",
       " 'teamandroid',\n",
       " 'da',\n",
       " 'ly',\n",
       " 'lion',\n",
       " 'steve',\n",
       " 'also',\n",
       " 'ill',\n",
       " 'osx',\n",
       " 'photoshoot',\n",
       " 'coupl',\n",
       " 'favorit',\n",
       " 'forc',\n",
       " 'newtoy',\n",
       " 'nascar',\n",
       " 'tire',\n",
       " 'appar',\n",
       " 'ago',\n",
       " 'zeeland',\n",
       " 'appletv',\n",
       " 'ask',\n",
       " 'said',\n",
       " 'meet',\n",
       " 'electron',\n",
       " 'gener',\n",
       " 'link',\n",
       " 'code',\n",
       " 'tshirt',\n",
       " 'tbt',\n",
       " 'beat',\n",
       " 'screw',\n",
       " 'videogam',\n",
       " 'motiv',\n",
       " 'sunni',\n",
       " 'nikon',\n",
       " 'useless',\n",
       " 'boyfriend',\n",
       " 'weekend',\n",
       " 'cook',\n",
       " 'japan',\n",
       " 'starbuck',\n",
       " 'almost',\n",
       " 'cousin',\n",
       " 'tag',\n",
       " 'applesuck',\n",
       " 'bye',\n",
       " 'search',\n",
       " 'dinner',\n",
       " 'discount',\n",
       " 'cheer',\n",
       " 'bluetooth',\n",
       " 'wireless',\n",
       " 'data',\n",
       " 'spent',\n",
       " 'puppi',\n",
       " 'vacat',\n",
       " 'anim',\n",
       " 'notebook',\n",
       " 'redbubbl',\n",
       " 'iphonecas',\n",
       " 'king',\n",
       " 'yo',\n",
       " 'left',\n",
       " 'mean',\n",
       " 'what',\n",
       " 'yesterday',\n",
       " 'mayb',\n",
       " 'trump',\n",
       " 'california',\n",
       " 'repost',\n",
       " 'samsungmobil',\n",
       " 'gone',\n",
       " 'social',\n",
       " 'break',\n",
       " 'trip',\n",
       " 'slow',\n",
       " 'rain',\n",
       " 'wtf',\n",
       " 'anyth',\n",
       " 'cuz',\n",
       " 'hd',\n",
       " 'microsoft',\n",
       " 'applewatch',\n",
       " 'duo',\n",
       " 'dj',\n",
       " 'save',\n",
       " 'mr',\n",
       " 'releas',\n",
       " 'gonna',\n",
       " 'entir',\n",
       " 'part',\n",
       " 'die',\n",
       " 'k',\n",
       " 'tip',\n",
       " 'gotta',\n",
       " 'eat',\n",
       " 'walk',\n",
       " 'side',\n",
       " 'explor',\n",
       " 'hous',\n",
       " 'room',\n",
       " 'rs',\n",
       " 'piano',\n",
       " 'v',\n",
       " 'thankyou',\n",
       " 'happen',\n",
       " 'page',\n",
       " 'surpris',\n",
       " 'deliveri',\n",
       " 'messag',\n",
       " 'vocat',\n",
       " 'thailand',\n",
       " 'khaoko',\n",
       " 'ilc',\n",
       " 'snapspeed…',\n",
       " 'merri',\n",
       " 'htc',\n",
       " 'onlin',\n",
       " 'psn',\n",
       " 'flash',\n",
       " '•',\n",
       " 'treat',\n",
       " 'tagsforlik',\n",
       " 'cost',\n",
       " 'crack',\n",
       " 'collect',\n",
       " 'stuck',\n",
       " 'planet',\n",
       " 'men',\n",
       " 'followfollow',\n",
       " 'blow',\n",
       " 'latest',\n",
       " 'consol',\n",
       " 'blogger',\n",
       " 'protect',\n",
       " 'skin',\n",
       " 'choos',\n",
       " 'uniqu',\n",
       " 'piec',\n",
       " 'lot',\n",
       " 'remov',\n",
       " 'secur',\n",
       " 'princess',\n",
       " 'mind',\n",
       " 'becom',\n",
       " 'miami',\n",
       " 'nail',\n",
       " 'rip',\n",
       " 'figur',\n",
       " 'network',\n",
       " 'bitch',\n",
       " 'tuesday',\n",
       " 'f',\n",
       " 'idea',\n",
       " 'fb',\n",
       " 'omg',\n",
       " 'innov',\n",
       " 'player',\n",
       " 'forev',\n",
       " 'satisfi',\n",
       " 'tonight',\n",
       " 'artist',\n",
       " 'sing',\n",
       " 'click',\n",
       " 'hair',\n",
       " 'ride',\n",
       " 'leav',\n",
       " 'colour',\n",
       " 'togeth',\n",
       " 'asshol',\n",
       " ...]"
      ]
     },
     "execution_count": 39,
     "metadata": {},
     "output_type": "execute_result"
    }
   ],
   "source": [
    "tokens"
   ]
  },
  {
   "cell_type": "code",
   "execution_count": 40,
   "id": "ce128f6a-2b3e-496b-81f4-f7e963eb3a51",
   "metadata": {},
   "outputs": [
    {
     "data": {
      "text/plain": [
       "1145"
      ]
     },
     "execution_count": 40,
     "metadata": {},
     "output_type": "execute_result"
    }
   ],
   "source": [
    "len(tokens)"
   ]
  },
  {
   "cell_type": "code",
   "execution_count": 41,
   "id": "d5262cba-6082-4447-83d6-6ef645c041a1",
   "metadata": {},
   "outputs": [],
   "source": [
    "def save_vocabulary(lines, filename):\n",
    "    data = '\\n'.join(lines)\n",
    "    file = open(filename, 'w', encoding=\"utf-8\")\n",
    "    file.write(data)\n",
    "    file.close()\n",
    "\n",
    "save_vocabulary(tokens, '../static/model/vocabulary.txt')"
   ]
  },
  {
   "cell_type": "markdown",
   "id": "f1260562-8c3b-4d64-88f0-2ebc44f139b4",
   "metadata": {},
   "source": [
    "## Divide Dataset"
   ]
  },
  {
   "cell_type": "code",
   "execution_count": 42,
   "id": "b8017bf4-1a04-4ae5-99d7-4f1430c6244b",
   "metadata": {},
   "outputs": [],
   "source": [
    "X = data['tweet']\n",
    "y = data['label']"
   ]
  },
  {
   "cell_type": "code",
   "execution_count": 43,
   "id": "ae2f93c4-a85a-4ccf-92e6-5a73a96f6252",
   "metadata": {},
   "outputs": [
    {
     "name": "stdout",
     "output_type": "stream",
     "text": [
      "Collecting scikit-learn\n",
      "  Downloading scikit_learn-1.7.2-cp312-cp312-win_amd64.whl.metadata (11 kB)\n",
      "Requirement already satisfied: numpy>=1.22.0 in d:\\self projects\\sentiment-analysis-project\\env\\lib\\site-packages (from scikit-learn) (2.3.2)\n",
      "Collecting scipy>=1.8.0 (from scikit-learn)\n",
      "  Downloading scipy-1.16.1-cp312-cp312-win_amd64.whl.metadata (60 kB)\n",
      "Requirement already satisfied: joblib>=1.2.0 in d:\\self projects\\sentiment-analysis-project\\env\\lib\\site-packages (from scikit-learn) (1.5.2)\n",
      "Collecting threadpoolctl>=3.1.0 (from scikit-learn)\n",
      "  Downloading threadpoolctl-3.6.0-py3-none-any.whl.metadata (13 kB)\n",
      "Downloading scikit_learn-1.7.2-cp312-cp312-win_amd64.whl (8.7 MB)\n",
      "   ---------------------------------------- 0.0/8.7 MB ? eta -:--:--\n",
      "   ---------------------------------------- 0.0/8.7 MB ? eta -:--:--\n",
      "   - -------------------------------------- 0.3/8.7 MB ? eta -:--:--\n",
      "   - -------------------------------------- 0.3/8.7 MB ? eta -:--:--\n",
      "   - -------------------------------------- 0.3/8.7 MB ? eta -:--:--\n",
      "   -- ------------------------------------- 0.5/8.7 MB 540.5 kB/s eta 0:00:16\n",
      "   -- ------------------------------------- 0.5/8.7 MB 540.5 kB/s eta 0:00:16\n",
      "   --- ------------------------------------ 0.8/8.7 MB 568.6 kB/s eta 0:00:14\n",
      "   ---- ----------------------------------- 1.0/8.7 MB 629.1 kB/s eta 0:00:13\n",
      "   ---- ----------------------------------- 1.0/8.7 MB 629.1 kB/s eta 0:00:13\n",
      "   ---- ----------------------------------- 1.0/8.7 MB 629.1 kB/s eta 0:00:13\n",
      "   ---- ----------------------------------- 1.0/8.7 MB 629.1 kB/s eta 0:00:13\n",
      "   ---- ----------------------------------- 1.0/8.7 MB 629.1 kB/s eta 0:00:13\n",
      "   ---- ----------------------------------- 1.0/8.7 MB 629.1 kB/s eta 0:00:13\n",
      "   ---- ----------------------------------- 1.0/8.7 MB 629.1 kB/s eta 0:00:13\n",
      "   ------ --------------------------------- 1.3/8.7 MB 392.4 kB/s eta 0:00:19\n",
      "   ------- -------------------------------- 1.6/8.7 MB 439.1 kB/s eta 0:00:17\n",
      "   -------- ------------------------------- 1.8/8.7 MB 495.9 kB/s eta 0:00:14\n",
      "   -------- ------------------------------- 1.8/8.7 MB 495.9 kB/s eta 0:00:14\n",
      "   --------- ------------------------------ 2.1/8.7 MB 506.2 kB/s eta 0:00:14\n",
      "   ---------- ----------------------------- 2.4/8.7 MB 550.0 kB/s eta 0:00:12\n",
      "   ------------ --------------------------- 2.6/8.7 MB 583.0 kB/s eta 0:00:11\n",
      "   ------------ --------------------------- 2.6/8.7 MB 583.0 kB/s eta 0:00:11\n",
      "   ------------- -------------------------- 2.9/8.7 MB 607.8 kB/s eta 0:00:10\n",
      "   -------------- ------------------------- 3.1/8.7 MB 629.9 kB/s eta 0:00:09\n",
      "   --------------- ------------------------ 3.4/8.7 MB 639.1 kB/s eta 0:00:09\n",
      "   --------------- ------------------------ 3.4/8.7 MB 639.1 kB/s eta 0:00:09\n",
      "   --------------- ------------------------ 3.4/8.7 MB 639.1 kB/s eta 0:00:09\n",
      "   --------------- ------------------------ 3.4/8.7 MB 639.1 kB/s eta 0:00:09\n",
      "   --------------- ------------------------ 3.4/8.7 MB 639.1 kB/s eta 0:00:09\n",
      "   ---------------- ----------------------- 3.7/8.7 MB 569.4 kB/s eta 0:00:09\n",
      "   ------------------ --------------------- 3.9/8.7 MB 594.6 kB/s eta 0:00:09\n",
      "   ------------------ --------------------- 3.9/8.7 MB 594.6 kB/s eta 0:00:09\n",
      "   ------------------ --------------------- 3.9/8.7 MB 594.6 kB/s eta 0:00:09\n",
      "   ------------------ --------------------- 3.9/8.7 MB 594.6 kB/s eta 0:00:09\n",
      "   ------------------- -------------------- 4.2/8.7 MB 568.1 kB/s eta 0:00:08\n",
      "   --------------------- ------------------ 4.7/8.7 MB 610.7 kB/s eta 0:00:07\n",
      "   ---------------------- ----------------- 5.0/8.7 MB 634.4 kB/s eta 0:00:06\n",
      "   ------------------------- -------------- 5.5/8.7 MB 677.8 kB/s eta 0:00:05\n",
      "   -------------------------- ------------- 5.8/8.7 MB 699.0 kB/s eta 0:00:05\n",
      "   -------------------------- ------------- 5.8/8.7 MB 699.0 kB/s eta 0:00:05\n",
      "   --------------------------- ------------ 6.0/8.7 MB 703.1 kB/s eta 0:00:04\n",
      "   ---------------------------- ----------- 6.3/8.7 MB 705.4 kB/s eta 0:00:04\n",
      "   ---------------------------- ----------- 6.3/8.7 MB 705.4 kB/s eta 0:00:04\n",
      "   ------------------------------- -------- 6.8/8.7 MB 728.2 kB/s eta 0:00:03\n",
      "   -------------------------------- ------- 7.1/8.7 MB 741.8 kB/s eta 0:00:03\n",
      "   --------------------------------- ------ 7.3/8.7 MB 760.0 kB/s eta 0:00:02\n",
      "   ---------------------------------- ----- 7.6/8.7 MB 773.9 kB/s eta 0:00:02\n",
      "   ------------------------------------ --- 7.9/8.7 MB 773.5 kB/s eta 0:00:02\n",
      "   ------------------------------------- -- 8.1/8.7 MB 790.1 kB/s eta 0:00:01\n",
      "   -------------------------------------- - 8.4/8.7 MB 797.6 kB/s eta 0:00:01\n",
      "   ---------------------------------------  8.7/8.7 MB 807.3 kB/s eta 0:00:01\n",
      "   ---------------------------------------- 8.7/8.7 MB 800.6 kB/s eta 0:00:00\n",
      "Downloading scipy-1.16.1-cp312-cp312-win_amd64.whl (38.5 MB)\n",
      "   ---------------------------------------- 0.0/38.5 MB ? eta -:--:--\n",
      "   ---------------------------------------- 0.3/38.5 MB ? eta -:--:--\n",
      "   ---------------------------------------- 0.3/38.5 MB ? eta -:--:--\n",
      "    --------------------------------------- 0.5/38.5 MB 1.0 MB/s eta 0:00:37\n",
      "   - -------------------------------------- 1.0/38.5 MB 1.3 MB/s eta 0:00:30\n",
      "   - -------------------------------------- 1.3/38.5 MB 1.2 MB/s eta 0:00:31\n",
      "   - -------------------------------------- 1.3/38.5 MB 1.2 MB/s eta 0:00:31\n",
      "   - -------------------------------------- 1.8/38.5 MB 1.3 MB/s eta 0:00:29\n",
      "   -- ------------------------------------- 2.1/38.5 MB 1.3 MB/s eta 0:00:28\n",
      "   -- ------------------------------------- 2.4/38.5 MB 1.4 MB/s eta 0:00:27\n",
      "   -- ------------------------------------- 2.6/38.5 MB 1.2 MB/s eta 0:00:29\n",
      "   -- ------------------------------------- 2.9/38.5 MB 1.3 MB/s eta 0:00:28\n",
      "   -- ------------------------------------- 2.9/38.5 MB 1.3 MB/s eta 0:00:28\n",
      "   --- ------------------------------------ 3.1/38.5 MB 1.2 MB/s eta 0:00:31\n",
      "   --- ------------------------------------ 3.4/38.5 MB 1.2 MB/s eta 0:00:30\n",
      "   ---- ----------------------------------- 3.9/38.5 MB 1.2 MB/s eta 0:00:28\n",
      "   ---- ----------------------------------- 4.2/38.5 MB 1.3 MB/s eta 0:00:27\n",
      "   ---- ----------------------------------- 4.7/38.5 MB 1.3 MB/s eta 0:00:26\n",
      "   ---- ----------------------------------- 4.7/38.5 MB 1.3 MB/s eta 0:00:26\n",
      "   ----- ---------------------------------- 5.2/38.5 MB 1.3 MB/s eta 0:00:26\n",
      "   ----- ---------------------------------- 5.5/38.5 MB 1.3 MB/s eta 0:00:26\n",
      "   ------ --------------------------------- 6.0/38.5 MB 1.4 MB/s eta 0:00:24\n",
      "   ------ --------------------------------- 6.3/38.5 MB 1.4 MB/s eta 0:00:24\n",
      "   ------ --------------------------------- 6.6/38.5 MB 1.4 MB/s eta 0:00:24\n",
      "   ------- -------------------------------- 6.8/38.5 MB 1.4 MB/s eta 0:00:24\n",
      "   ------- -------------------------------- 6.8/38.5 MB 1.4 MB/s eta 0:00:24\n",
      "   ------- -------------------------------- 7.1/38.5 MB 1.3 MB/s eta 0:00:24\n",
      "   ------- -------------------------------- 7.1/38.5 MB 1.3 MB/s eta 0:00:24\n",
      "   ------- -------------------------------- 7.3/38.5 MB 1.2 MB/s eta 0:00:25\n",
      "   ------- -------------------------------- 7.3/38.5 MB 1.2 MB/s eta 0:00:25\n",
      "   ------- -------------------------------- 7.3/38.5 MB 1.2 MB/s eta 0:00:25\n",
      "   ------- -------------------------------- 7.6/38.5 MB 1.2 MB/s eta 0:00:27\n",
      "   ------- -------------------------------- 7.6/38.5 MB 1.2 MB/s eta 0:00:27\n",
      "   -------- ------------------------------- 7.9/38.5 MB 1.1 MB/s eta 0:00:28\n",
      "   -------- ------------------------------- 7.9/38.5 MB 1.1 MB/s eta 0:00:28\n",
      "   -------- ------------------------------- 7.9/38.5 MB 1.1 MB/s eta 0:00:28\n",
      "   -------- ------------------------------- 7.9/38.5 MB 1.1 MB/s eta 0:00:28\n",
      "   -------- ------------------------------- 7.9/38.5 MB 1.1 MB/s eta 0:00:28\n",
      "   -------- ------------------------------- 8.1/38.5 MB 1.0 MB/s eta 0:00:31\n",
      "   -------- ------------------------------- 8.4/38.5 MB 1.0 MB/s eta 0:00:30\n",
      "   -------- ------------------------------- 8.4/38.5 MB 1.0 MB/s eta 0:00:30\n",
      "   -------- ------------------------------- 8.4/38.5 MB 1.0 MB/s eta 0:00:30\n",
      "   -------- ------------------------------- 8.7/38.5 MB 958.7 kB/s eta 0:00:32\n",
      "   -------- ------------------------------- 8.7/38.5 MB 958.7 kB/s eta 0:00:32\n",
      "   --------- ------------------------------ 8.9/38.5 MB 941.5 kB/s eta 0:00:32\n",
      "   --------- ------------------------------ 8.9/38.5 MB 941.5 kB/s eta 0:00:32\n",
      "   --------- ------------------------------ 8.9/38.5 MB 941.5 kB/s eta 0:00:32\n",
      "   --------- ------------------------------ 9.2/38.5 MB 915.6 kB/s eta 0:00:33\n",
      "   --------- ------------------------------ 9.2/38.5 MB 915.6 kB/s eta 0:00:33\n",
      "   --------- ------------------------------ 9.2/38.5 MB 915.6 kB/s eta 0:00:33\n",
      "   --------- ------------------------------ 9.4/38.5 MB 879.0 kB/s eta 0:00:34\n",
      "   --------- ------------------------------ 9.4/38.5 MB 879.0 kB/s eta 0:00:34\n",
      "   --------- ------------------------------ 9.4/38.5 MB 879.0 kB/s eta 0:00:34\n",
      "   --------- ------------------------------ 9.4/38.5 MB 879.0 kB/s eta 0:00:34\n",
      "   ---------- ----------------------------- 9.7/38.5 MB 834.2 kB/s eta 0:00:35\n",
      "   ---------- ----------------------------- 9.7/38.5 MB 834.2 kB/s eta 0:00:35\n",
      "   ---------- ----------------------------- 10.0/38.5 MB 820.0 kB/s eta 0:00:35\n",
      "   ---------- ----------------------------- 10.0/38.5 MB 820.0 kB/s eta 0:00:35\n",
      "   ---------- ----------------------------- 10.2/38.5 MB 818.4 kB/s eta 0:00:35\n",
      "   ---------- ----------------------------- 10.5/38.5 MB 826.1 kB/s eta 0:00:34\n",
      "   ----------- ---------------------------- 10.7/38.5 MB 833.7 kB/s eta 0:00:34\n",
      "   ----------- ---------------------------- 11.0/38.5 MB 838.8 kB/s eta 0:00:33\n",
      "   ----------- ---------------------------- 11.3/38.5 MB 841.9 kB/s eta 0:00:33\n",
      "   ----------- ---------------------------- 11.5/38.5 MB 849.7 kB/s eta 0:00:32\n",
      "   ------------ --------------------------- 11.8/38.5 MB 858.3 kB/s eta 0:00:32\n",
      "   ------------ --------------------------- 12.1/38.5 MB 865.8 kB/s eta 0:00:31\n",
      "   ------------ --------------------------- 12.1/38.5 MB 865.8 kB/s eta 0:00:31\n",
      "   ------------ --------------------------- 12.3/38.5 MB 862.3 kB/s eta 0:00:31\n",
      "   ------------- -------------------------- 12.6/38.5 MB 867.5 kB/s eta 0:00:30\n",
      "   ------------- -------------------------- 13.1/38.5 MB 880.2 kB/s eta 0:00:29\n",
      "   ------------- -------------------------- 13.1/38.5 MB 880.2 kB/s eta 0:00:29\n",
      "   -------------- ------------------------- 13.6/38.5 MB 890.3 kB/s eta 0:00:28\n",
      "   -------------- ------------------------- 13.9/38.5 MB 895.7 kB/s eta 0:00:28\n",
      "   -------------- ------------------------- 14.2/38.5 MB 900.0 kB/s eta 0:00:28\n",
      "   -------------- ------------------------- 14.4/38.5 MB 904.1 kB/s eta 0:00:27\n",
      "   --------------- ------------------------ 14.7/38.5 MB 910.9 kB/s eta 0:00:27\n",
      "   --------------- ------------------------ 14.9/38.5 MB 914.8 kB/s eta 0:00:26\n",
      "   --------------- ------------------------ 15.2/38.5 MB 918.6 kB/s eta 0:00:26\n",
      "   --------------- ------------------------ 15.2/38.5 MB 918.6 kB/s eta 0:00:26\n",
      "   ---------------- ----------------------- 15.7/38.5 MB 924.2 kB/s eta 0:00:25\n",
      "   ---------------- ----------------------- 16.0/38.5 MB 931.2 kB/s eta 0:00:25\n",
      "   ---------------- ----------------------- 16.3/38.5 MB 937.2 kB/s eta 0:00:24\n",
      "   ----------------- ---------------------- 16.5/38.5 MB 939.6 kB/s eta 0:00:24\n",
      "   ----------------- ---------------------- 16.8/38.5 MB 943.7 kB/s eta 0:00:24\n",
      "   ----------------- ---------------------- 17.0/38.5 MB 947.7 kB/s eta 0:00:23\n",
      "   ----------------- ---------------------- 17.3/38.5 MB 951.5 kB/s eta 0:00:23\n",
      "   ------------------ --------------------- 17.6/38.5 MB 957.8 kB/s eta 0:00:22\n",
      "   ------------------ --------------------- 17.8/38.5 MB 963.2 kB/s eta 0:00:22\n",
      "   ------------------- -------------------- 18.4/38.5 MB 972.8 kB/s eta 0:00:21\n",
      "   ------------------- -------------------- 18.6/38.5 MB 978.7 kB/s eta 0:00:21\n",
      "   ------------------- -------------------- 18.9/38.5 MB 983.6 kB/s eta 0:00:20\n",
      "   ------------------- -------------------- 19.1/38.5 MB 985.2 kB/s eta 0:00:20\n",
      "   -------------------- ------------------- 19.4/38.5 MB 987.7 kB/s eta 0:00:20\n",
      "   -------------------- ------------------- 19.7/38.5 MB 992.4 kB/s eta 0:00:19\n",
      "   -------------------- ------------------- 19.9/38.5 MB 996.2 kB/s eta 0:00:19\n",
      "   --------------------- ------------------ 20.4/38.5 MB 1.0 MB/s eta 0:00:18\n",
      "   --------------------- ------------------ 20.7/38.5 MB 1.0 MB/s eta 0:00:18\n",
      "   --------------------- ------------------ 21.0/38.5 MB 1.0 MB/s eta 0:00:18\n",
      "   ---------------------- ----------------- 21.5/38.5 MB 1.0 MB/s eta 0:00:17\n",
      "   ---------------------- ----------------- 21.8/38.5 MB 1.0 MB/s eta 0:00:17\n",
      "   ----------------------- ---------------- 22.3/38.5 MB 1.0 MB/s eta 0:00:16\n",
      "   ----------------------- ---------------- 22.8/38.5 MB 1.1 MB/s eta 0:00:15\n",
      "   ------------------------ --------------- 23.3/38.5 MB 1.1 MB/s eta 0:00:15\n",
      "   ------------------------ --------------- 23.9/38.5 MB 1.1 MB/s eta 0:00:14\n",
      "   ------------------------- -------------- 24.1/38.5 MB 1.1 MB/s eta 0:00:14\n",
      "   ------------------------- -------------- 24.6/38.5 MB 1.1 MB/s eta 0:00:13\n",
      "   ------------------------- -------------- 24.9/38.5 MB 1.1 MB/s eta 0:00:13\n",
      "   -------------------------- ------------- 25.2/38.5 MB 1.1 MB/s eta 0:00:13\n",
      "   -------------------------- ------------- 25.7/38.5 MB 1.1 MB/s eta 0:00:12\n",
      "   --------------------------- ------------ 26.2/38.5 MB 1.1 MB/s eta 0:00:11\n",
      "   --------------------------- ------------ 26.5/38.5 MB 1.1 MB/s eta 0:00:11\n",
      "   ---------------------------- ----------- 27.0/38.5 MB 1.1 MB/s eta 0:00:11\n",
      "   ---------------------------- ----------- 27.3/38.5 MB 1.1 MB/s eta 0:00:10\n",
      "   ---------------------------- ----------- 27.5/38.5 MB 1.1 MB/s eta 0:00:10\n",
      "   ---------------------------- ----------- 27.8/38.5 MB 1.1 MB/s eta 0:00:10\n",
      "   ----------------------------- ---------- 28.3/38.5 MB 1.2 MB/s eta 0:00:09\n",
      "   ----------------------------- ---------- 28.6/38.5 MB 1.2 MB/s eta 0:00:09\n",
      "   ----------------------------- ---------- 28.8/38.5 MB 1.2 MB/s eta 0:00:09\n",
      "   ------------------------------ --------- 29.1/38.5 MB 1.2 MB/s eta 0:00:09\n",
      "   ------------------------------ --------- 29.4/38.5 MB 1.2 MB/s eta 0:00:08\n",
      "   ------------------------------ --------- 29.4/38.5 MB 1.2 MB/s eta 0:00:08\n",
      "   ------------------------------ --------- 29.6/38.5 MB 1.2 MB/s eta 0:00:08\n",
      "   ------------------------------ --------- 29.6/38.5 MB 1.2 MB/s eta 0:00:08\n",
      "   ------------------------------ --------- 29.6/38.5 MB 1.2 MB/s eta 0:00:08\n",
      "   ------------------------------ --------- 29.6/38.5 MB 1.2 MB/s eta 0:00:08\n",
      "   ------------------------------- -------- 29.9/38.5 MB 1.1 MB/s eta 0:00:08\n",
      "   ------------------------------- -------- 30.1/38.5 MB 1.1 MB/s eta 0:00:08\n",
      "   ------------------------------- -------- 30.4/38.5 MB 1.1 MB/s eta 0:00:08\n",
      "   -------------------------------- ------- 30.9/38.5 MB 1.1 MB/s eta 0:00:07\n",
      "   -------------------------------- ------- 31.2/38.5 MB 1.1 MB/s eta 0:00:07\n",
      "   -------------------------------- ------- 31.7/38.5 MB 1.1 MB/s eta 0:00:06\n",
      "   --------------------------------- ------ 32.0/38.5 MB 1.1 MB/s eta 0:00:06\n",
      "   --------------------------------- ------ 32.2/38.5 MB 1.1 MB/s eta 0:00:06\n",
      "   --------------------------------- ------ 32.5/38.5 MB 1.1 MB/s eta 0:00:06\n",
      "   ---------------------------------- ----- 32.8/38.5 MB 1.1 MB/s eta 0:00:06\n",
      "   ---------------------------------- ----- 32.8/38.5 MB 1.1 MB/s eta 0:00:06\n",
      "   ---------------------------------- ----- 33.0/38.5 MB 1.1 MB/s eta 0:00:05\n",
      "   ---------------------------------- ----- 33.3/38.5 MB 1.1 MB/s eta 0:00:05\n",
      "   ----------------------------------- ---- 33.8/38.5 MB 1.1 MB/s eta 0:00:05\n",
      "   ----------------------------------- ---- 34.1/38.5 MB 1.2 MB/s eta 0:00:04\n",
      "   ----------------------------------- ---- 34.1/38.5 MB 1.2 MB/s eta 0:00:04\n",
      "   ----------------------------------- ---- 34.3/38.5 MB 1.1 MB/s eta 0:00:04\n",
      "   ----------------------------------- ---- 34.6/38.5 MB 1.1 MB/s eta 0:00:04\n",
      "   ------------------------------------ --- 34.9/38.5 MB 1.1 MB/s eta 0:00:04\n",
      "   ------------------------------------ --- 35.1/38.5 MB 1.1 MB/s eta 0:00:03\n",
      "   ------------------------------------ --- 35.4/38.5 MB 1.1 MB/s eta 0:00:03\n",
      "   ------------------------------------ --- 35.4/38.5 MB 1.1 MB/s eta 0:00:03\n",
      "   ------------------------------------ --- 35.4/38.5 MB 1.1 MB/s eta 0:00:03\n",
      "   ------------------------------------ --- 35.4/38.5 MB 1.1 MB/s eta 0:00:03\n",
      "   ------------------------------------- -- 35.7/38.5 MB 1.1 MB/s eta 0:00:03\n",
      "   ------------------------------------- -- 35.7/38.5 MB 1.1 MB/s eta 0:00:03\n",
      "   ------------------------------------- -- 35.7/38.5 MB 1.1 MB/s eta 0:00:03\n",
      "   ------------------------------------- -- 35.9/38.5 MB 1.1 MB/s eta 0:00:03\n",
      "   ------------------------------------- -- 36.2/38.5 MB 1.1 MB/s eta 0:00:03\n",
      "   ------------------------------------- -- 36.4/38.5 MB 1.1 MB/s eta 0:00:02\n",
      "   -------------------------------------- - 36.7/38.5 MB 1.1 MB/s eta 0:00:02\n",
      "   -------------------------------------- - 36.7/38.5 MB 1.1 MB/s eta 0:00:02\n",
      "   -------------------------------------- - 36.7/38.5 MB 1.1 MB/s eta 0:00:02\n",
      "   -------------------------------------- - 36.7/38.5 MB 1.1 MB/s eta 0:00:02\n",
      "   -------------------------------------- - 36.7/38.5 MB 1.1 MB/s eta 0:00:02\n",
      "   -------------------------------------- - 36.7/38.5 MB 1.1 MB/s eta 0:00:02\n",
      "   -------------------------------------- - 36.7/38.5 MB 1.1 MB/s eta 0:00:02\n",
      "   -------------------------------------- - 36.7/38.5 MB 1.1 MB/s eta 0:00:02\n",
      "   -------------------------------------- - 36.7/38.5 MB 1.1 MB/s eta 0:00:02\n",
      "   -------------------------------------- - 36.7/38.5 MB 1.1 MB/s eta 0:00:02\n",
      "   -------------------------------------- - 37.0/38.5 MB 1.0 MB/s eta 0:00:02\n",
      "   -------------------------------------- - 37.0/38.5 MB 1.0 MB/s eta 0:00:02\n",
      "   -------------------------------------- - 37.2/38.5 MB 1.0 MB/s eta 0:00:02\n",
      "   -------------------------------------- - 37.2/38.5 MB 1.0 MB/s eta 0:00:02\n",
      "   -------------------------------------- - 37.2/38.5 MB 1.0 MB/s eta 0:00:02\n",
      "   -------------------------------------- - 37.2/38.5 MB 1.0 MB/s eta 0:00:02\n",
      "   -------------------------------------- - 37.2/38.5 MB 1.0 MB/s eta 0:00:02\n",
      "   -------------------------------------- - 37.5/38.5 MB 996.1 kB/s eta 0:00:02\n",
      "   -------------------------------------- - 37.5/38.5 MB 996.1 kB/s eta 0:00:02\n",
      "   ---------------------------------------  37.7/38.5 MB 998.2 kB/s eta 0:00:01\n",
      "   ---------------------------------------  38.0/38.5 MB 1.0 MB/s eta 0:00:01\n",
      "   ---------------------------------------  38.0/38.5 MB 1.0 MB/s eta 0:00:01\n",
      "   ---------------------------------------  38.0/38.5 MB 1.0 MB/s eta 0:00:01\n",
      "   ---------------------------------------  38.3/38.5 MB 1.0 MB/s eta 0:00:01\n",
      "   ---------------------------------------  38.3/38.5 MB 1.0 MB/s eta 0:00:01\n",
      "   ---------------------------------------- 38.5/38.5 MB 1.0 MB/s eta 0:00:00\n",
      "Downloading threadpoolctl-3.6.0-py3-none-any.whl (18 kB)\n",
      "Installing collected packages: threadpoolctl, scipy, scikit-learn\n",
      "\n",
      "   ------------- -------------------------- 1/3 [scipy]\n",
      "   ------------- -------------------------- 1/3 [scipy]\n",
      "   ------------- -------------------------- 1/3 [scipy]\n",
      "   ------------- -------------------------- 1/3 [scipy]\n",
      "   ------------- -------------------------- 1/3 [scipy]\n",
      "   ------------- -------------------------- 1/3 [scipy]\n",
      "   ------------- -------------------------- 1/3 [scipy]\n",
      "   ------------- -------------------------- 1/3 [scipy]\n",
      "   ------------- -------------------------- 1/3 [scipy]\n",
      "   ------------- -------------------------- 1/3 [scipy]\n",
      "   ------------- -------------------------- 1/3 [scipy]\n",
      "   ------------- -------------------------- 1/3 [scipy]\n",
      "   ------------- -------------------------- 1/3 [scipy]\n",
      "   ------------- -------------------------- 1/3 [scipy]\n",
      "   ------------- -------------------------- 1/3 [scipy]\n",
      "   ------------- -------------------------- 1/3 [scipy]\n",
      "   ------------- -------------------------- 1/3 [scipy]\n",
      "   ------------- -------------------------- 1/3 [scipy]\n",
      "   ------------- -------------------------- 1/3 [scipy]\n",
      "   ------------- -------------------------- 1/3 [scipy]\n",
      "   ------------- -------------------------- 1/3 [scipy]\n",
      "   ------------- -------------------------- 1/3 [scipy]\n",
      "   ------------- -------------------------- 1/3 [scipy]\n",
      "   ------------- -------------------------- 1/3 [scipy]\n",
      "   ------------- -------------------------- 1/3 [scipy]\n",
      "   ------------- -------------------------- 1/3 [scipy]\n",
      "   ------------- -------------------------- 1/3 [scipy]\n",
      "   ------------- -------------------------- 1/3 [scipy]\n",
      "   ------------- -------------------------- 1/3 [scipy]\n",
      "   ------------- -------------------------- 1/3 [scipy]\n",
      "   ------------- -------------------------- 1/3 [scipy]\n",
      "   ------------- -------------------------- 1/3 [scipy]\n",
      "   ------------- -------------------------- 1/3 [scipy]\n",
      "   ------------- -------------------------- 1/3 [scipy]\n",
      "   ------------- -------------------------- 1/3 [scipy]\n",
      "   ------------- -------------------------- 1/3 [scipy]\n",
      "   ------------- -------------------------- 1/3 [scipy]\n",
      "   ------------- -------------------------- 1/3 [scipy]\n",
      "   ------------- -------------------------- 1/3 [scipy]\n",
      "   ------------- -------------------------- 1/3 [scipy]\n",
      "   ------------- -------------------------- 1/3 [scipy]\n",
      "   ------------- -------------------------- 1/3 [scipy]\n",
      "   ------------- -------------------------- 1/3 [scipy]\n",
      "   ------------- -------------------------- 1/3 [scipy]\n",
      "   ------------- -------------------------- 1/3 [scipy]\n",
      "   ------------- -------------------------- 1/3 [scipy]\n",
      "   ------------- -------------------------- 1/3 [scipy]\n",
      "   ------------- -------------------------- 1/3 [scipy]\n",
      "   ------------- -------------------------- 1/3 [scipy]\n",
      "   ------------- -------------------------- 1/3 [scipy]\n",
      "   ------------- -------------------------- 1/3 [scipy]\n",
      "   ------------- -------------------------- 1/3 [scipy]\n",
      "   ------------- -------------------------- 1/3 [scipy]\n",
      "   ------------- -------------------------- 1/3 [scipy]\n",
      "   ------------- -------------------------- 1/3 [scipy]\n",
      "   ------------- -------------------------- 1/3 [scipy]\n",
      "   ------------- -------------------------- 1/3 [scipy]\n",
      "   ------------- -------------------------- 1/3 [scipy]\n",
      "   ------------- -------------------------- 1/3 [scipy]\n",
      "   ------------- -------------------------- 1/3 [scipy]\n",
      "   ------------- -------------------------- 1/3 [scipy]\n",
      "   ------------- -------------------------- 1/3 [scipy]\n",
      "   ------------- -------------------------- 1/3 [scipy]\n",
      "   ------------- -------------------------- 1/3 [scipy]\n",
      "   -------------------------- ------------- 2/3 [scikit-learn]\n",
      "   -------------------------- ------------- 2/3 [scikit-learn]\n",
      "   -------------------------- ------------- 2/3 [scikit-learn]\n",
      "   -------------------------- ------------- 2/3 [scikit-learn]\n",
      "   -------------------------- ------------- 2/3 [scikit-learn]\n",
      "   -------------------------- ------------- 2/3 [scikit-learn]\n",
      "   -------------------------- ------------- 2/3 [scikit-learn]\n",
      "   -------------------------- ------------- 2/3 [scikit-learn]\n",
      "   -------------------------- ------------- 2/3 [scikit-learn]\n",
      "   -------------------------- ------------- 2/3 [scikit-learn]\n",
      "   -------------------------- ------------- 2/3 [scikit-learn]\n",
      "   -------------------------- ------------- 2/3 [scikit-learn]\n",
      "   -------------------------- ------------- 2/3 [scikit-learn]\n",
      "   -------------------------- ------------- 2/3 [scikit-learn]\n",
      "   -------------------------- ------------- 2/3 [scikit-learn]\n",
      "   -------------------------- ------------- 2/3 [scikit-learn]\n",
      "   -------------------------- ------------- 2/3 [scikit-learn]\n",
      "   -------------------------- ------------- 2/3 [scikit-learn]\n",
      "   -------------------------- ------------- 2/3 [scikit-learn]\n",
      "   -------------------------- ------------- 2/3 [scikit-learn]\n",
      "   -------------------------- ------------- 2/3 [scikit-learn]\n",
      "   -------------------------- ------------- 2/3 [scikit-learn]\n",
      "   -------------------------- ------------- 2/3 [scikit-learn]\n",
      "   -------------------------- ------------- 2/3 [scikit-learn]\n",
      "   -------------------------- ------------- 2/3 [scikit-learn]\n",
      "   -------------------------- ------------- 2/3 [scikit-learn]\n",
      "   -------------------------- ------------- 2/3 [scikit-learn]\n",
      "   -------------------------- ------------- 2/3 [scikit-learn]\n",
      "   -------------------------- ------------- 2/3 [scikit-learn]\n",
      "   -------------------------- ------------- 2/3 [scikit-learn]\n",
      "   -------------------------- ------------- 2/3 [scikit-learn]\n",
      "   -------------------------- ------------- 2/3 [scikit-learn]\n",
      "   -------------------------- ------------- 2/3 [scikit-learn]\n",
      "   ---------------------------------------- 3/3 [scikit-learn]\n",
      "\n",
      "Successfully installed scikit-learn-1.7.2 scipy-1.16.1 threadpoolctl-3.6.0\n"
     ]
    },
    {
     "name": "stderr",
     "output_type": "stream",
     "text": [
      "\n",
      "[notice] A new release of pip is available: 25.1.1 -> 25.2\n",
      "[notice] To update, run: python.exe -m pip install --upgrade pip\n"
     ]
    }
   ],
   "source": [
    "!pip install scikit-learn"
   ]
  },
  {
   "cell_type": "code",
   "execution_count": 44,
   "id": "c346866b-c986-4481-bd71-a46d51358b8f",
   "metadata": {},
   "outputs": [],
   "source": [
    "from sklearn.model_selection import train_test_split\n",
    "X_train, X_test, y_train, y_test = train_test_split(X, y, test_size=0.2)"
   ]
  },
  {
   "cell_type": "code",
   "execution_count": 45,
   "id": "4332a931-1e30-491f-931d-8a5313447e05",
   "metadata": {},
   "outputs": [
    {
     "data": {
      "text/plain": [
       "6275                  everyth appl pain ass missmyandriod\n",
       "2821    thank ipod delet song morn noth listen way wor...\n",
       "1418    photo “happi kids” sandip bose sandipbcool px ...\n",
       "2468    iphon x iphonex newphon merrychristma pasko pa...\n",
       "5971    mom emili got new phone dad new plan sprint ca...\n",
       "                              ...                        \n",
       "1411    peopl anyth els hateappl lol peopl like find w...\n",
       "6408    bad can’t figur issu applesupport batteri mani...\n",
       "5089    cold trench coat come dinner friend finedin lv...\n",
       "6928    today good dayno smog iphon 拍照 instagood 手机摄影 ...\n",
       "4586    got love theme idevic right iphon cydia maccit...\n",
       "Name: tweet, Length: 6336, dtype: object"
      ]
     },
     "execution_count": 45,
     "metadata": {},
     "output_type": "execute_result"
    }
   ],
   "source": [
    "X_train"
   ]
  },
  {
   "cell_type": "code",
   "execution_count": 46,
   "id": "19bbee46-c4eb-4d43-abbc-6753a945b16c",
   "metadata": {},
   "outputs": [
    {
     "data": {
      "text/plain": [
       "4038      new phone soni experia u phone new soni experia\n",
       "254     rt genevievermrz pictur smileykidd tenni today...\n",
       "5461                   ipod skip that suppos happen cd mp\n",
       "4404    paint music smile galeanastudio paintingbrush ...\n",
       "4127    wifi hake password android app unitedst cute c...\n",
       "                              ...                        \n",
       "976                          amount hate appl itun intens\n",
       "6360    casper lol look lotd pink aj cap iphon selfi i...\n",
       "2058    year old papa samsung live laugh life filchi c...\n",
       "769     final new dress babi thank samsung galaxi case...\n",
       "6307    geekout girlpow fest yr old yr old yr old fun ...\n",
       "Name: tweet, Length: 1584, dtype: object"
      ]
     },
     "execution_count": 46,
     "metadata": {},
     "output_type": "execute_result"
    }
   ],
   "source": [
    "X_test"
   ]
  },
  {
   "cell_type": "code",
   "execution_count": 47,
   "id": "a5eb4b91-5b2a-406d-b74c-61f488d8fb9d",
   "metadata": {},
   "outputs": [
    {
     "data": {
      "text/plain": [
       "6275    1\n",
       "2821    1\n",
       "1418    0\n",
       "2468    0\n",
       "5971    0\n",
       "       ..\n",
       "1411    0\n",
       "6408    1\n",
       "5089    0\n",
       "6928    0\n",
       "4586    0\n",
       "Name: label, Length: 6336, dtype: int64"
      ]
     },
     "execution_count": 47,
     "metadata": {},
     "output_type": "execute_result"
    }
   ],
   "source": [
    "y_train"
   ]
  },
  {
   "cell_type": "markdown",
   "id": "0869e7e4-17d9-497c-9208-cc62bcea35bc",
   "metadata": {},
   "source": [
    "### Vectorization"
   ]
  },
  {
   "cell_type": "code",
   "execution_count": 48,
   "id": "f0cbfa5a-015d-4fba-8848-a1218302c8bf",
   "metadata": {},
   "outputs": [],
   "source": [
    "\n",
    "def vectorizer(ds, vocabulary):\n",
    "    vectorized_lst = []\n",
    "    \n",
    "    for sentence in ds:\n",
    "        sentence_lst = np.zeros(len(vocabulary))\n",
    "        \n",
    "        for i in range(len(vocabulary)):\n",
    "            if vocabulary[i] in sentence.split():\n",
    "                sentence_lst[i] = 1\n",
    "                \n",
    "        vectorized_lst.append(sentence_lst)\n",
    "        \n",
    "    vectorized_lst_new = np.asarray(vectorized_lst, dtype=np.float32)\n",
    "    \n",
    "    return vectorized_lst_new"
   ]
  },
  {
   "cell_type": "code",
   "execution_count": 49,
   "id": "a437a3f0-52c6-4ad9-981c-13ad96f83dd3",
   "metadata": {},
   "outputs": [],
   "source": [
    "vectorized_x_train = vectorizer(X_train, tokens)"
   ]
  },
  {
   "cell_type": "code",
   "execution_count": 50,
   "id": "f882cc81-7aee-4133-b56b-ae89487470b0",
   "metadata": {},
   "outputs": [
    {
     "data": {
      "text/plain": [
       "array([[0., 0., 0., ..., 0., 0., 0.],\n",
       "       [0., 0., 0., ..., 0., 0., 0.],\n",
       "       [0., 0., 0., ..., 0., 0., 0.],\n",
       "       ...,\n",
       "       [0., 0., 0., ..., 0., 0., 0.],\n",
       "       [0., 0., 0., ..., 0., 0., 0.],\n",
       "       [0., 0., 0., ..., 0., 0., 0.]], shape=(6336, 1145), dtype=float32)"
      ]
     },
     "execution_count": 50,
     "metadata": {},
     "output_type": "execute_result"
    }
   ],
   "source": [
    "vectorized_x_train"
   ]
  },
  {
   "cell_type": "code",
   "execution_count": 51,
   "id": "116596d3-3f81-4905-be33-707a50bbdf77",
   "metadata": {},
   "outputs": [
    {
     "data": {
      "text/plain": [
       "6275    1\n",
       "2821    1\n",
       "1418    0\n",
       "2468    0\n",
       "5971    0\n",
       "       ..\n",
       "1411    0\n",
       "6408    1\n",
       "5089    0\n",
       "6928    0\n",
       "4586    0\n",
       "Name: label, Length: 6336, dtype: int64"
      ]
     },
     "execution_count": 51,
     "metadata": {},
     "output_type": "execute_result"
    }
   ],
   "source": [
    "y_train"
   ]
  },
  {
   "cell_type": "code",
   "execution_count": 53,
   "id": "7a77e1d6-60dc-44e6-8cdf-68e8153de172",
   "metadata": {},
   "outputs": [],
   "source": [
    "vectorized_x_test = vectorizer(X_test, tokens)"
   ]
  },
  {
   "cell_type": "code",
   "execution_count": 54,
   "id": "020e34d4-1aca-4391-9559-04bca5c9fbd2",
   "metadata": {},
   "outputs": [
    {
     "data": {
      "text/plain": [
       "array([[0., 0., 0., ..., 0., 0., 0.],\n",
       "       [0., 0., 0., ..., 0., 0., 0.],\n",
       "       [0., 0., 0., ..., 0., 0., 0.],\n",
       "       ...,\n",
       "       [0., 0., 0., ..., 0., 0., 0.],\n",
       "       [0., 0., 0., ..., 0., 0., 0.],\n",
       "       [0., 0., 0., ..., 0., 0., 0.]], shape=(1584, 1145), dtype=float32)"
      ]
     },
     "execution_count": 54,
     "metadata": {},
     "output_type": "execute_result"
    }
   ],
   "source": [
    "vectorized_x_test"
   ]
  },
  {
   "cell_type": "code",
   "execution_count": 55,
   "id": "281e5d9a-7b1d-48aa-9005-a5a4c157578d",
   "metadata": {},
   "outputs": [
    {
     "data": {
      "text/plain": [
       "4038    0\n",
       "254     0\n",
       "5461    1\n",
       "4404    0\n",
       "4127    0\n",
       "       ..\n",
       "976     1\n",
       "6360    0\n",
       "2058    0\n",
       "769     0\n",
       "6307    0\n",
       "Name: label, Length: 1584, dtype: int64"
      ]
     },
     "execution_count": 55,
     "metadata": {},
     "output_type": "execute_result"
    }
   ],
   "source": [
    "y_test"
   ]
  },
  {
   "cell_type": "code",
   "execution_count": 56,
   "id": "643e4a26-7a05-43a2-a25f-a11990559682",
   "metadata": {},
   "outputs": [
    {
     "data": {
      "text/plain": [
       "label\n",
       "0    4717\n",
       "1    1619\n",
       "Name: count, dtype: int64"
      ]
     },
     "execution_count": 56,
     "metadata": {},
     "output_type": "execute_result"
    }
   ],
   "source": [
    "y_train.value_counts()"
   ]
  },
  {
   "cell_type": "code",
   "execution_count": 57,
   "id": "48a2d945-7323-45f8-9978-c12514475626",
   "metadata": {},
   "outputs": [
    {
     "data": {
      "image/png": "[encoded data removed]",
      "text/plain": [
       "<Figure size 640x480 with 1 Axes>"
      ]
     },
     "metadata": {},
     "output_type": "display_data"
    }
   ],
   "source": [
    "plt.pie(np.array([y_train.value_counts()[0], y_train.value_counts()[1]]), labels=['Positive', 'Negative'])\n",
    "plt.show()"
   ]
  },
  {
   "cell_type": "markdown",
   "id": "2ae3b723-0a42-4d6b-8859-05e8dab5bc01",
   "metadata": {},
   "source": [
    "### Handle imbalanced dataset"
   ]
  },
  {
   "cell_type": "code",
   "execution_count": 58,
   "id": "9619700b-fcfe-4135-b417-3f68fea12cd0",
   "metadata": {},
   "outputs": [
    {
     "name": "stdout",
     "output_type": "stream",
     "text": [
      "Collecting imbalanced-learn\n",
      "  Downloading imbalanced_learn-0.14.0-py3-none-any.whl.metadata (8.8 kB)\n",
      "Requirement already satisfied: numpy<3,>=1.25.2 in d:\\self projects\\sentiment-analysis-project\\env\\lib\\site-packages (from imbalanced-learn) (2.3.2)\n",
      "Requirement already satisfied: scipy<2,>=1.11.4 in d:\\self projects\\sentiment-analysis-project\\env\\lib\\site-packages (from imbalanced-learn) (1.16.1)\n",
      "Requirement already satisfied: scikit-learn<2,>=1.4.2 in d:\\self projects\\sentiment-analysis-project\\env\\lib\\site-packages (from imbalanced-learn) (1.7.2)\n",
      "Requirement already satisfied: joblib<2,>=1.2.0 in d:\\self projects\\sentiment-analysis-project\\env\\lib\\site-packages (from imbalanced-learn) (1.5.2)\n",
      "Requirement already satisfied: threadpoolctl<4,>=2.0.0 in d:\\self projects\\sentiment-analysis-project\\env\\lib\\site-packages (from imbalanced-learn) (3.6.0)\n",
      "Downloading imbalanced_learn-0.14.0-py3-none-any.whl (239 kB)\n",
      "Installing collected packages: imbalanced-learn\n",
      "Successfully installed imbalanced-learn-0.14.0\n"
     ]
    },
    {
     "name": "stderr",
     "output_type": "stream",
     "text": [
      "\n",
      "[notice] A new release of pip is available: 25.1.1 -> 25.2\n",
      "[notice] To update, run: python.exe -m pip install --upgrade pip\n"
     ]
    }
   ],
   "source": [
    "!pip install imbalanced-learn"
   ]
  },
  {
   "cell_type": "code",
   "execution_count": 59,
   "id": "d9a12828-91ec-4590-ba42-eed7aceaa4bc",
   "metadata": {},
   "outputs": [
    {
     "name": "stdout",
     "output_type": "stream",
     "text": [
      "(9434, 1145) (9434,)\n"
     ]
    }
   ],
   "source": [
    "from imblearn.over_sampling import SMOTE\n",
    "smote = SMOTE()\n",
    "vectorized_x_train_smote, y_train_smote = smote.fit_resample(vectorized_x_train, y_train)\n",
    "print(vectorized_x_train_smote.shape, y_train_smote.shape)"
   ]
  },
  {
   "cell_type": "code",
   "execution_count": 60,
   "id": "0054d5c1-ab2f-4dc5-8535-91df39a30a36",
   "metadata": {},
   "outputs": [
    {
     "data": {
      "text/plain": [
       "label\n",
       "1    4717\n",
       "0    4717\n",
       "Name: count, dtype: int64"
      ]
     },
     "execution_count": 60,
     "metadata": {},
     "output_type": "execute_result"
    }
   ],
   "source": [
    "y_train_smote.value_counts()"
   ]
  },
  {
   "cell_type": "code",
   "execution_count": 61,
   "id": "37e9da45-75fc-4ede-9e15-d49a9f568663",
   "metadata": {},
   "outputs": [
    {
     "data": {
      "image/png": "[encoded data removed]",
      "text/plain": [
       "<Figure size 640x480 with 1 Axes>"
      ]
     },
     "metadata": {},
     "output_type": "display_data"
    }
   ],
   "source": [
    "plt.pie(np.array([y_train_smote.value_counts()[0], y_train_smote.value_counts()[1]]), labels=['Positive', 'Negative'])\n",
    "plt.show()"
   ]
  },
  {
   "cell_type": "code",
   "execution_count": 62,
   "id": "9fe2fe21-c9a9-43d9-96dc-1c688bf82ead",
   "metadata": {},
   "outputs": [
    {
     "data": {
      "text/plain": [
       "array([[0.        , 0.        , 0.        , ..., 0.        , 0.        ,\n",
       "        0.        ],\n",
       "       [0.        , 0.        , 0.        , ..., 0.        , 0.        ,\n",
       "        0.        ],\n",
       "       [0.        , 0.        , 0.        , ..., 0.        , 0.        ,\n",
       "        0.        ],\n",
       "       ...,\n",
       "       [0.        , 0.        , 0.35060367, ..., 0.        , 0.        ,\n",
       "        0.        ],\n",
       "       [0.        , 0.        , 0.        , ..., 0.        , 0.        ,\n",
       "        0.        ],\n",
       "       [0.        , 0.        , 0.        , ..., 0.        , 0.        ,\n",
       "        0.        ]], shape=(9434, 1145), dtype=float32)"
      ]
     },
     "execution_count": 62,
     "metadata": {},
     "output_type": "execute_result"
    }
   ],
   "source": [
    "vectorized_x_train_smote"
   ]
  },
  {
   "cell_type": "code",
   "execution_count": 63,
   "id": "bd744419-4b81-41bb-931b-565e9acce418",
   "metadata": {},
   "outputs": [
    {
     "data": {
      "text/plain": [
       "0       1\n",
       "1       1\n",
       "2       0\n",
       "3       0\n",
       "4       0\n",
       "       ..\n",
       "9429    1\n",
       "9430    1\n",
       "9431    1\n",
       "9432    1\n",
       "9433    1\n",
       "Name: label, Length: 9434, dtype: int64"
      ]
     },
     "execution_count": 63,
     "metadata": {},
     "output_type": "execute_result"
    }
   ],
   "source": [
    "\n",
    "y_train_smote"
   ]
  },
  {
   "cell_type": "code",
   "execution_count": 64,
   "id": "d4abbcea-5a60-424a-aaab-459122637905",
   "metadata": {},
   "outputs": [
    {
     "data": {
      "text/plain": [
       "array([[0., 0., 0., ..., 0., 0., 0.],\n",
       "       [0., 0., 0., ..., 0., 0., 0.],\n",
       "       [0., 0., 0., ..., 0., 0., 0.],\n",
       "       ...,\n",
       "       [0., 0., 0., ..., 0., 0., 0.],\n",
       "       [0., 0., 0., ..., 0., 0., 0.],\n",
       "       [0., 0., 0., ..., 0., 0., 0.]], shape=(1584, 1145), dtype=float32)"
      ]
     },
     "execution_count": 64,
     "metadata": {},
     "output_type": "execute_result"
    }
   ],
   "source": [
    "\n",
    "vectorized_x_test"
   ]
  },
  {
   "cell_type": "code",
   "execution_count": 65,
   "id": "bb2251fe-f0c6-4999-ad31-6556937862a3",
   "metadata": {},
   "outputs": [
    {
     "data": {
      "text/plain": [
       "4038    0\n",
       "254     0\n",
       "5461    1\n",
       "4404    0\n",
       "4127    0\n",
       "       ..\n",
       "976     1\n",
       "6360    0\n",
       "2058    0\n",
       "769     0\n",
       "6307    0\n",
       "Name: label, Length: 1584, dtype: int64"
      ]
     },
     "execution_count": 65,
     "metadata": {},
     "output_type": "execute_result"
    }
   ],
   "source": [
    "\n",
    "y_test"
   ]
  },
  {
   "cell_type": "markdown",
   "id": "6729b9be-3c79-4f76-9a89-ab26146359fd",
   "metadata": {},
   "source": [
    "## Model Training and Evaluation"
   ]
  },
  {
   "cell_type": "code",
   "execution_count": 66,
   "id": "6b57381c-6755-4b59-a449-1a56c098d8b9",
   "metadata": {},
   "outputs": [],
   "source": [
    "\n",
    "from sklearn.linear_model import LogisticRegression\n",
    "from sklearn.naive_bayes import MultinomialNB\n",
    "from sklearn.tree import DecisionTreeClassifier\n",
    "from sklearn.ensemble import RandomForestClassifier\n",
    "from sklearn.svm import SVC"
   ]
  },
  {
   "cell_type": "code",
   "execution_count": 67,
   "id": "13c4d6bc-831e-4f33-99e9-45bbc007096d",
   "metadata": {},
   "outputs": [],
   "source": [
    "from sklearn.metrics import accuracy_score, f1_score, precision_score, recall_score\n",
    "\n",
    "def training_scores(y_act, y_pred):\n",
    "    acc = round(accuracy_score(y_act, y_pred), 3)\n",
    "    pr = round(precision_score(y_act, y_pred), 3)\n",
    "    rec = round(recall_score(y_act, y_pred), 3)\n",
    "    f1 = round(f1_score(y_act, y_pred), 3)\n",
    "    print(f'Training Scores:\\n\\tAccuracy = {acc}\\n\\tPrecision = {pr}\\n\\tRecall = {rec}\\n\\tF1-Score = {f1}')\n",
    "    \n",
    "def validation_scores(y_act, y_pred):\n",
    "    acc = round(accuracy_score(y_act, y_pred), 3)\n",
    "    pr = round(precision_score(y_act, y_pred), 3)\n",
    "    rec = round(recall_score(y_act, y_pred), 3)\n",
    "    f1 = round(f1_score(y_act, y_pred), 3)\n",
    "    print(f'Testing Scores:\\n\\tAccuracy = {acc}\\n\\tPrecision = {pr}\\n\\tRecall = {rec}\\n\\tF1-Score = {f1}')"
   ]
  },
  {
   "cell_type": "markdown",
   "id": "e0769d74-8fa2-451a-a74e-680ddddb3ea6",
   "metadata": {},
   "source": [
    "### Logistic Regression"
   ]
  },
  {
   "cell_type": "code",
   "execution_count": 68,
   "id": "3d985e74-847f-426e-97d1-edaf1604a0eb",
   "metadata": {},
   "outputs": [
    {
     "name": "stdout",
     "output_type": "stream",
     "text": [
      "Training Scores:\n",
      "\tAccuracy = 0.945\n",
      "\tPrecision = 0.924\n",
      "\tRecall = 0.97\n",
      "\tF1-Score = 0.946\n",
      "Testing Scores:\n",
      "\tAccuracy = 0.866\n",
      "\tPrecision = 0.702\n",
      "\tRecall = 0.833\n",
      "\tF1-Score = 0.762\n"
     ]
    }
   ],
   "source": [
    "\n",
    "lr = LogisticRegression()\n",
    "lr.fit(vectorized_x_train_smote, y_train_smote)\n",
    "\n",
    "y_train_pred = lr.predict(vectorized_x_train_smote)\n",
    "\n",
    "y_test_pred = lr.predict(vectorized_x_test)\n",
    "\n",
    "training_scores(y_train_smote, y_train_pred)\n",
    "\n",
    "validation_scores(y_test, y_test_pred)"
   ]
  },
  {
   "cell_type": "markdown",
   "id": "a2b05dcf-0d59-4ded-a18e-6953961d0ab7",
   "metadata": {},
   "source": [
    "### Naive Bayes"
   ]
  },
  {
   "cell_type": "code",
   "execution_count": 69,
   "id": "dbdeee35-12d4-4a04-aabc-e1078930030a",
   "metadata": {},
   "outputs": [
    {
     "name": "stdout",
     "output_type": "stream",
     "text": [
      "Training Scores:\n",
      "\tAccuracy = 0.911\n",
      "\tPrecision = 0.872\n",
      "\tRecall = 0.963\n",
      "\tF1-Score = 0.915\n",
      "Testing Scores:\n",
      "\tAccuracy = 0.857\n",
      "\tPrecision = 0.662\n",
      "\tRecall = 0.909\n",
      "\tF1-Score = 0.766\n"
     ]
    }
   ],
   "source": [
    "mnb = MultinomialNB()\n",
    "mnb.fit(vectorized_x_train_smote, y_train_smote)\n",
    "\n",
    "y_train_pred = mnb.predict(vectorized_x_train_smote)\n",
    "\n",
    "y_test_pred = mnb.predict(vectorized_x_test)\n",
    "\n",
    "training_scores(y_train_smote, y_train_pred)\n",
    "\n",
    "validation_scores(y_test, y_test_pred)"
   ]
  },
  {
   "cell_type": "markdown",
   "id": "c28d1b61-22fd-47df-a52c-941986a9c105",
   "metadata": {},
   "source": [
    "### Decision Tree"
   ]
  },
  {
   "cell_type": "code",
   "execution_count": 70,
   "id": "d25dae43-abaf-44cf-b6c2-c0c42673741f",
   "metadata": {},
   "outputs": [
    {
     "name": "stdout",
     "output_type": "stream",
     "text": [
      "Training Scores:\n",
      "\tAccuracy = 1.0\n",
      "\tPrecision = 1.0\n",
      "\tRecall = 1.0\n",
      "\tF1-Score = 1.0\n",
      "Testing Scores:\n",
      "\tAccuracy = 0.823\n",
      "\tPrecision = 0.649\n",
      "\tRecall = 0.678\n",
      "\tF1-Score = 0.663\n"
     ]
    }
   ],
   "source": [
    "\n",
    "dt = DecisionTreeClassifier()\n",
    "\n",
    "dt.fit(vectorized_x_train_smote, y_train_smote)\n",
    "\n",
    "y_train_pred = dt.predict(vectorized_x_train_smote)\n",
    "\n",
    "y_test_pred = dt.predict(vectorized_x_test)\n",
    "\n",
    "training_scores(y_train_smote, y_train_pred)\n",
    "\n",
    "validation_scores(y_test, y_test_pred)"
   ]
  },
  {
   "cell_type": "markdown",
   "id": "d810a876-968f-4eae-a7db-5213dad9757f",
   "metadata": {},
   "source": [
    "### Random Forest"
   ]
  },
  {
   "cell_type": "code",
   "execution_count": 71,
   "id": "3fa607ac-3993-47fc-b706-99eb9edf8aa0",
   "metadata": {},
   "outputs": [
    {
     "name": "stdout",
     "output_type": "stream",
     "text": [
      "Training Scores:\n",
      "\tAccuracy = 1.0\n",
      "\tPrecision = 1.0\n",
      "\tRecall = 1.0\n",
      "\tF1-Score = 1.0\n",
      "Testing Scores:\n",
      "\tAccuracy = 0.871\n",
      "\tPrecision = 0.758\n",
      "\tRecall = 0.73\n",
      "\tF1-Score = 0.743\n"
     ]
    }
   ],
   "source": [
    "rf = RandomForestClassifier()\n",
    "\n",
    "rf.fit(vectorized_x_train_smote, y_train_smote)\n",
    "\n",
    "y_train_pred = rf.predict(vectorized_x_train_smote)\n",
    "\n",
    "y_test_pred = rf.predict(vectorized_x_test)\n",
    "\n",
    "training_scores(y_train_smote, y_train_pred)\n",
    "\n",
    "validation_scores(y_test, y_test_pred)"
   ]
  },
  {
   "cell_type": "markdown",
   "id": "ae7cad0d-39d8-4eaf-b3c8-6f649aed9dc6",
   "metadata": {},
   "source": [
    "### Support Vector Machine"
   ]
  },
  {
   "cell_type": "code",
   "execution_count": 72,
   "id": "fb72e536-e36f-4895-95f1-240d0f2b452a",
   "metadata": {},
   "outputs": [
    {
     "name": "stdout",
     "output_type": "stream",
     "text": [
      "Training Scores:\n",
      "\tAccuracy = 0.98\n",
      "\tPrecision = 0.966\n",
      "\tRecall = 0.996\n",
      "\tF1-Score = 0.981\n",
      "Testing Scores:\n",
      "\tAccuracy = 0.874\n",
      "\tPrecision = 0.73\n",
      "\tRecall = 0.811\n",
      "\tF1-Score = 0.768\n"
     ]
    }
   ],
   "source": [
    "svm = SVC()\n",
    "\n",
    "svm.fit(vectorized_x_train_smote, y_train_smote)\n",
    "\n",
    "y_train_pred = svm.predict(vectorized_x_train_smote)\n",
    "\n",
    "y_test_pred = svm.predict(vectorized_x_test)\n",
    "\n",
    "training_scores(y_train_smote, y_train_pred)\n",
    "\n",
    "validation_scores(y_test, y_test_pred)"
   ]
  },
  {
   "cell_type": "code",
   "execution_count": 74,
   "id": "e7e7d02f-2435-4923-b989-3fd13b032683",
   "metadata": {},
   "outputs": [],
   "source": [
    "import pickle\n",
    "\n",
    "with open('../static/model/model.pickle', 'wb') as file:\n",
    "    pickle.dump(lr, file)"
   ]
  },
  {
   "cell_type": "code",
   "execution_count": null,
   "id": "b073f541-2160-489b-b1f3-5aead6d78e66",
   "metadata": {},
   "outputs": [],
   "source": []
  }
 ],
 "metadata": {
  "kernelspec": {
   "display_name": "Python 3 (ipykernel)",
   "language": "python",
   "name": "python3"
  },
  "language_info": {
   "codemirror_mode": {
    "name": "ipython",
    "version": 3
   },
   "file_extension": ".py",
   "mimetype": "text/x-python",
   "name": "python",
   "nbconvert_exporter": "python",
   "pygments_lexer": "ipython3",
   "version": "3.12.0"
  }
 },
 "nbformat": 4,
 "nbformat_minor": 5
}
